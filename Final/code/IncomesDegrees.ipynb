{
 "cells": [
  {
   "cell_type": "markdown",
   "metadata": {},
   "source": [
    "# INFO-664 final project\n",
    "# College: Cliff Notes\n",
    "degrees and incomes 2019\n",
    "\n",
    "S1502\n",
    "FIELD OF BACHELOR'S DEGREE FOR FIRST MAJOR\n",
    "\n",
    "Source: U.S. Census Bureau, 2015-2019 American Community Survey 5-Year Estimates<br/><br/>"
   ]
  },
  {
   "cell_type": "code",
   "execution_count": null,
   "metadata": {},
   "outputs": [],
   "source": [
    "# call libraries\n",
    "import pandas as pd\n",
    "import plotly.express as px\n",
    "import plotly.graph_objects as go\n",
    "import chart_studio\n",
    "import chart_studio.plotly as py\n",
    "import kaleido\n",
    "import plotly.io as pio\n",
    "import numpy as np\n",
    "import numexpr as ne"
   ]
  },
  {
   "cell_type": "markdown",
   "metadata": {},
   "source": [
    "# Plotly Express"
   ]
  },
  {
   "cell_type": "code",
   "execution_count": 2,
   "metadata": {},
   "outputs": [],
   "source": [
    "# set up plotly account - djferrera@me.com - djferrera\n",
    "# API key = R14hI1bNFa1dCpBDdxAr\n",
    "\n",
    "username = '-'\n",
    "api_key = '-' \n",
    "chart_studio.tools.set_credentials_file(username=username, api_key=api_key)"
   ]
  },
  {
   "cell_type": "markdown",
   "metadata": {},
   "source": [
    "# Econimic Data"
   ]
  },
  {
   "cell_type": "code",
   "execution_count": 4,
   "metadata": {},
   "outputs": [],
   "source": [
    "income = pd.read_csv(\"/Users/djferrera/Documents/DIANE/Pratt/04-Fall-2021/INFO-664/00-final-project/data/CENSUS/2019ACS-Degrees-Income.csv\")\n"
   ]
  },
  {
   "cell_type": "code",
   "execution_count": 5,
   "metadata": {},
   "outputs": [
    {
     "data": {
      "text/html": [
       "<div>\n",
       "<style scoped>\n",
       "    .dataframe tbody tr th:only-of-type {\n",
       "        vertical-align: middle;\n",
       "    }\n",
       "\n",
       "    .dataframe tbody tr th {\n",
       "        vertical-align: top;\n",
       "    }\n",
       "\n",
       "    .dataframe thead th {\n",
       "        text-align: right;\n",
       "    }\n",
       "</style>\n",
       "<table border=\"1\" class=\"dataframe\">\n",
       "  <thead>\n",
       "    <tr style=\"text-align: right;\">\n",
       "      <th></th>\n",
       "      <th>id</th>\n",
       "      <th>GEOID</th>\n",
       "      <th>County</th>\n",
       "      <th>State</th>\n",
       "      <th>MedIncPop25Plus</th>\n",
       "      <th>MedIncNoHSGrad</th>\n",
       "      <th>MedIncHSGrad</th>\n",
       "      <th>MedIncSomeCollege</th>\n",
       "      <th>MedIncBachDeg</th>\n",
       "      <th>MedIncGradProfDeg</th>\n",
       "      <th>DifNoHSGrad</th>\n",
       "      <th>DifHSGrad</th>\n",
       "      <th>DifSomeCollege</th>\n",
       "      <th>DifBachDegree</th>\n",
       "      <th>DifGradProfDeg</th>\n",
       "    </tr>\n",
       "  </thead>\n",
       "  <tbody>\n",
       "    <tr>\n",
       "      <th>0</th>\n",
       "      <td>0500000US01001</td>\n",
       "      <td>1001</td>\n",
       "      <td>Autauga County</td>\n",
       "      <td>Alabama</td>\n",
       "      <td>40778</td>\n",
       "      <td>22813</td>\n",
       "      <td>31295</td>\n",
       "      <td>40948</td>\n",
       "      <td>51637</td>\n",
       "      <td>56380</td>\n",
       "      <td>-44</td>\n",
       "      <td>-23</td>\n",
       "      <td>0</td>\n",
       "      <td>27</td>\n",
       "      <td>38</td>\n",
       "    </tr>\n",
       "    <tr>\n",
       "      <th>1</th>\n",
       "      <td>0500000US01003</td>\n",
       "      <td>1003</td>\n",
       "      <td>Baldwin County</td>\n",
       "      <td>Alabama</td>\n",
       "      <td>37897</td>\n",
       "      <td>23202</td>\n",
       "      <td>29250</td>\n",
       "      <td>32642</td>\n",
       "      <td>50555</td>\n",
       "      <td>58411</td>\n",
       "      <td>-39</td>\n",
       "      <td>-23</td>\n",
       "      <td>-14</td>\n",
       "      <td>33</td>\n",
       "      <td>54</td>\n",
       "    </tr>\n",
       "    <tr>\n",
       "      <th>2</th>\n",
       "      <td>0500000US01005</td>\n",
       "      <td>1005</td>\n",
       "      <td>Barbour County</td>\n",
       "      <td>Alabama</td>\n",
       "      <td>27434</td>\n",
       "      <td>23099</td>\n",
       "      <td>23750</td>\n",
       "      <td>27309</td>\n",
       "      <td>50152</td>\n",
       "      <td>58209</td>\n",
       "      <td>-16</td>\n",
       "      <td>-13</td>\n",
       "      <td>0</td>\n",
       "      <td>83</td>\n",
       "      <td>112</td>\n",
       "    </tr>\n",
       "    <tr>\n",
       "      <th>3</th>\n",
       "      <td>0500000US01007</td>\n",
       "      <td>1007</td>\n",
       "      <td>Bibb County</td>\n",
       "      <td>Alabama</td>\n",
       "      <td>28789</td>\n",
       "      <td>22044</td>\n",
       "      <td>26829</td>\n",
       "      <td>27833</td>\n",
       "      <td>42688</td>\n",
       "      <td>63393</td>\n",
       "      <td>-23</td>\n",
       "      <td>-7</td>\n",
       "      <td>-3</td>\n",
       "      <td>48</td>\n",
       "      <td>120</td>\n",
       "    </tr>\n",
       "    <tr>\n",
       "      <th>4</th>\n",
       "      <td>0500000US01009</td>\n",
       "      <td>1009</td>\n",
       "      <td>Blount County</td>\n",
       "      <td>Alabama</td>\n",
       "      <td>39004</td>\n",
       "      <td>25694</td>\n",
       "      <td>32500</td>\n",
       "      <td>39641</td>\n",
       "      <td>53443</td>\n",
       "      <td>54353</td>\n",
       "      <td>-34</td>\n",
       "      <td>-17</td>\n",
       "      <td>2</td>\n",
       "      <td>37</td>\n",
       "      <td>39</td>\n",
       "    </tr>\n",
       "  </tbody>\n",
       "</table>\n",
       "</div>"
      ],
      "text/plain": [
       "               id  GEOID          County     State  MedIncPop25Plus  \\\n",
       "0  0500000US01001   1001  Autauga County   Alabama            40778   \n",
       "1  0500000US01003   1003  Baldwin County   Alabama            37897   \n",
       "2  0500000US01005   1005  Barbour County   Alabama            27434   \n",
       "3  0500000US01007   1007     Bibb County   Alabama            28789   \n",
       "4  0500000US01009   1009   Blount County   Alabama            39004   \n",
       "\n",
       "  MedIncNoHSGrad MedIncHSGrad MedIncSomeCollege MedIncBachDeg  \\\n",
       "0          22813        31295             40948         51637   \n",
       "1          23202        29250             32642         50555   \n",
       "2          23099        23750             27309         50152   \n",
       "3          22044        26829             27833         42688   \n",
       "4          25694        32500             39641         53443   \n",
       "\n",
       "  MedIncGradProfDeg DifNoHSGrad DifHSGrad DifSomeCollege DifBachDegree  \\\n",
       "0             56380         -44       -23              0            27   \n",
       "1             58411         -39       -23            -14            33   \n",
       "2             58209         -16       -13              0            83   \n",
       "3             63393         -23        -7             -3            48   \n",
       "4             54353         -34       -17              2            37   \n",
       "\n",
       "  DifGradProfDeg  \n",
       "0             38  \n",
       "1             54  \n",
       "2            112  \n",
       "3            120  \n",
       "4             39  "
      ]
     },
     "execution_count": 5,
     "metadata": {},
     "output_type": "execute_result"
    }
   ],
   "source": [
    "income.head()"
   ]
  },
  {
   "cell_type": "code",
   "execution_count": 6,
   "metadata": {},
   "outputs": [
    {
     "data": {
      "text/plain": [
       "(3142, 15)"
      ]
     },
     "execution_count": 6,
     "metadata": {},
     "output_type": "execute_result"
    }
   ],
   "source": [
    "income.shape"
   ]
  },
  {
   "cell_type": "code",
   "execution_count": 7,
   "metadata": {},
   "outputs": [
    {
     "data": {
      "text/plain": [
       "id                   object\n",
       "GEOID                 int64\n",
       "County               object\n",
       "State                object\n",
       "MedIncPop25Plus       int64\n",
       "MedIncNoHSGrad       object\n",
       "MedIncHSGrad         object\n",
       "MedIncSomeCollege    object\n",
       "MedIncBachDeg        object\n",
       "MedIncGradProfDeg    object\n",
       "DifNoHSGrad          object\n",
       "DifHSGrad            object\n",
       "DifSomeCollege       object\n",
       "DifBachDegree        object\n",
       "DifGradProfDeg       object\n",
       "dtype: object"
      ]
     },
     "execution_count": 7,
     "metadata": {},
     "output_type": "execute_result"
    }
   ],
   "source": [
    "# check data types\n",
    "income.dtypes"
   ]
  },
  {
   "cell_type": "code",
   "execution_count": 8,
   "metadata": {},
   "outputs": [],
   "source": [
    "# remove \"-\" values, in order to change data type\n",
    "income = income[income.MedIncNoHSGrad != \"-\"]\n",
    "income = income[income.MedIncHSGrad != \"-\"]\n",
    "income = income[income.MedIncSomeCollege != \"-\"]\n",
    "income = income[income.MedIncBachDeg != \"-\"]\n",
    "income = income[income.MedIncGradProfDeg != \"-\"]\n",
    "income = income[income.DifNoHSGrad != \"-\"]\n",
    "income = income[income.DifHSGrad != \"-\"]\n",
    "income = income[income.DifSomeCollege != \"-\"]\n",
    "income = income[income.DifBachDegree != \"-\"]\n",
    "income = income[income.DifGradProfDeg != \"-\"]"
   ]
  },
  {
   "cell_type": "code",
   "execution_count": 9,
   "metadata": {},
   "outputs": [],
   "source": [
    "# convert to int, in order to sum\n",
    "income['MedIncNoHSGrad'] = income['MedIncNoHSGrad'].astype(int)\n",
    "income['MedIncHSGrad'] = income['MedIncHSGrad'].astype(int)\n",
    "income['MedIncSomeCollege'] = income['MedIncSomeCollege'].astype(int)\n",
    "income['MedIncBachDeg'] = income['MedIncBachDeg'].astype(int)\n",
    "income['MedIncGradProfDeg'] = income['MedIncGradProfDeg'].astype(int)\n",
    "income['DifNoHSGrad'] = income['DifNoHSGrad'].astype(int)\n",
    "income['DifHSGrad'] = income['DifHSGrad'].astype(int)\n",
    "income['DifSomeCollege'] = income['DifSomeCollege'].astype(int)\n",
    "income['DifBachDegree'] = income['DifBachDegree'].astype(int)\n",
    "income['DifGradProfDeg'] = income['DifGradProfDeg'].astype(int)"
   ]
  },
  {
   "cell_type": "code",
   "execution_count": 10,
   "metadata": {},
   "outputs": [],
   "source": [
    "# groupby on state / average on percentages and incomes\n",
    "income_state = income.groupby(by=['State']).mean()"
   ]
  },
  {
   "cell_type": "code",
   "execution_count": 11,
   "metadata": {},
   "outputs": [
    {
     "data": {
      "text/html": [
       "<div>\n",
       "<style scoped>\n",
       "    .dataframe tbody tr th:only-of-type {\n",
       "        vertical-align: middle;\n",
       "    }\n",
       "\n",
       "    .dataframe tbody tr th {\n",
       "        vertical-align: top;\n",
       "    }\n",
       "\n",
       "    .dataframe thead th {\n",
       "        text-align: right;\n",
       "    }\n",
       "</style>\n",
       "<table border=\"1\" class=\"dataframe\">\n",
       "  <thead>\n",
       "    <tr style=\"text-align: right;\">\n",
       "      <th></th>\n",
       "      <th>GEOID</th>\n",
       "      <th>MedIncPop25Plus</th>\n",
       "      <th>MedIncNoHSGrad</th>\n",
       "      <th>MedIncHSGrad</th>\n",
       "      <th>MedIncSomeCollege</th>\n",
       "      <th>MedIncBachDeg</th>\n",
       "      <th>MedIncGradProfDeg</th>\n",
       "      <th>DifNoHSGrad</th>\n",
       "      <th>DifHSGrad</th>\n",
       "      <th>DifSomeCollege</th>\n",
       "      <th>DifBachDegree</th>\n",
       "      <th>DifGradProfDeg</th>\n",
       "    </tr>\n",
       "    <tr>\n",
       "      <th>State</th>\n",
       "      <th></th>\n",
       "      <th></th>\n",
       "      <th></th>\n",
       "      <th></th>\n",
       "      <th></th>\n",
       "      <th></th>\n",
       "      <th></th>\n",
       "      <th></th>\n",
       "      <th></th>\n",
       "      <th></th>\n",
       "      <th></th>\n",
       "      <th></th>\n",
       "    </tr>\n",
       "  </thead>\n",
       "  <tbody>\n",
       "    <tr>\n",
       "      <th>Alabama</th>\n",
       "      <td>1067.000000</td>\n",
       "      <td>33225.731343</td>\n",
       "      <td>22474.358209</td>\n",
       "      <td>29147.373134</td>\n",
       "      <td>32884.626866</td>\n",
       "      <td>45397.059701</td>\n",
       "      <td>55705.059701</td>\n",
       "      <td>-31.925373</td>\n",
       "      <td>-11.582090</td>\n",
       "      <td>-0.701493</td>\n",
       "      <td>37.000000</td>\n",
       "      <td>69.029851</td>\n",
       "    </tr>\n",
       "    <tr>\n",
       "      <th>Alaska</th>\n",
       "      <td>2149.956522</td>\n",
       "      <td>40943.478261</td>\n",
       "      <td>22759.608696</td>\n",
       "      <td>32188.782609</td>\n",
       "      <td>43973.565217</td>\n",
       "      <td>55605.869565</td>\n",
       "      <td>71704.217391</td>\n",
       "      <td>-45.173913</td>\n",
       "      <td>-22.304348</td>\n",
       "      <td>9.043478</td>\n",
       "      <td>40.956522</td>\n",
       "      <td>79.391304</td>\n",
       "    </tr>\n",
       "    <tr>\n",
       "      <th>Arizona</th>\n",
       "      <td>4013.866667</td>\n",
       "      <td>33428.200000</td>\n",
       "      <td>21939.866667</td>\n",
       "      <td>29111.733333</td>\n",
       "      <td>33344.333333</td>\n",
       "      <td>44925.066667</td>\n",
       "      <td>54105.466667</td>\n",
       "      <td>-33.133333</td>\n",
       "      <td>-13.200000</td>\n",
       "      <td>-0.066667</td>\n",
       "      <td>35.800000</td>\n",
       "      <td>64.266667</td>\n",
       "    </tr>\n",
       "    <tr>\n",
       "      <th>Arkansas</th>\n",
       "      <td>5074.123288</td>\n",
       "      <td>31801.808219</td>\n",
       "      <td>23770.219178</td>\n",
       "      <td>28295.219178</td>\n",
       "      <td>30635.369863</td>\n",
       "      <td>44001.027397</td>\n",
       "      <td>54209.123288</td>\n",
       "      <td>-24.493151</td>\n",
       "      <td>-10.684932</td>\n",
       "      <td>-3.506849</td>\n",
       "      <td>38.890411</td>\n",
       "      <td>70.794521</td>\n",
       "    </tr>\n",
       "    <tr>\n",
       "      <th>California</th>\n",
       "      <td>6059.142857</td>\n",
       "      <td>40019.196429</td>\n",
       "      <td>24085.232143</td>\n",
       "      <td>31918.571429</td>\n",
       "      <td>38120.178571</td>\n",
       "      <td>56615.410714</td>\n",
       "      <td>75375.089286</td>\n",
       "      <td>-37.785714</td>\n",
       "      <td>-17.803571</td>\n",
       "      <td>-2.821429</td>\n",
       "      <td>43.392857</td>\n",
       "      <td>90.035714</td>\n",
       "    </tr>\n",
       "  </tbody>\n",
       "</table>\n",
       "</div>"
      ],
      "text/plain": [
       "                   GEOID  MedIncPop25Plus  MedIncNoHSGrad  MedIncHSGrad  \\\n",
       "State                                                                     \n",
       " Alabama     1067.000000     33225.731343    22474.358209  29147.373134   \n",
       " Alaska      2149.956522     40943.478261    22759.608696  32188.782609   \n",
       " Arizona     4013.866667     33428.200000    21939.866667  29111.733333   \n",
       " Arkansas    5074.123288     31801.808219    23770.219178  28295.219178   \n",
       " California  6059.142857     40019.196429    24085.232143  31918.571429   \n",
       "\n",
       "             MedIncSomeCollege  MedIncBachDeg  MedIncGradProfDeg  DifNoHSGrad  \\\n",
       "State                                                                           \n",
       " Alabama          32884.626866   45397.059701       55705.059701   -31.925373   \n",
       " Alaska           43973.565217   55605.869565       71704.217391   -45.173913   \n",
       " Arizona          33344.333333   44925.066667       54105.466667   -33.133333   \n",
       " Arkansas         30635.369863   44001.027397       54209.123288   -24.493151   \n",
       " California       38120.178571   56615.410714       75375.089286   -37.785714   \n",
       "\n",
       "             DifHSGrad  DifSomeCollege  DifBachDegree  DifGradProfDeg  \n",
       "State                                                                  \n",
       " Alabama    -11.582090       -0.701493      37.000000       69.029851  \n",
       " Alaska     -22.304348        9.043478      40.956522       79.391304  \n",
       " Arizona    -13.200000       -0.066667      35.800000       64.266667  \n",
       " Arkansas   -10.684932       -3.506849      38.890411       70.794521  \n",
       " California -17.803571       -2.821429      43.392857       90.035714  "
      ]
     },
     "execution_count": 11,
     "metadata": {},
     "output_type": "execute_result"
    }
   ],
   "source": [
    "income_state.head()"
   ]
  },
  {
   "cell_type": "code",
   "execution_count": 12,
   "metadata": {},
   "outputs": [],
   "source": [
    "# round all numbers\n",
    "income_state['MedIncNoHSGrad'] = income_state['MedIncNoHSGrad'].astype(int)\n",
    "income_state['MedIncHSGrad'] = income_state['MedIncHSGrad'].astype(int)\n",
    "income_state['MedIncSomeCollege'] = income_state['MedIncSomeCollege'].astype(int)\n",
    "income_state['MedIncBachDeg'] = income_state['MedIncBachDeg'].astype(int)\n",
    "income_state['MedIncGradProfDeg'] = income_state['MedIncGradProfDeg'].astype(int)\n",
    "income_state['DifNoHSGrad'] = income_state['DifNoHSGrad'].astype(int)\n",
    "income_state['DifHSGrad'] = income_state['DifHSGrad'].astype(int)\n",
    "income_state['DifSomeCollege'] = income_state['DifSomeCollege'].astype(int)\n",
    "income_state['DifBachDegree'] = income_state['DifBachDegree'].astype(int)\n",
    "income_state['DifGradProfDeg'] = income_state['DifGradProfDeg'].astype(int)"
   ]
  },
  {
   "cell_type": "code",
   "execution_count": 13,
   "metadata": {},
   "outputs": [
    {
     "data": {
      "text/html": [
       "<div>\n",
       "<style scoped>\n",
       "    .dataframe tbody tr th:only-of-type {\n",
       "        vertical-align: middle;\n",
       "    }\n",
       "\n",
       "    .dataframe tbody tr th {\n",
       "        vertical-align: top;\n",
       "    }\n",
       "\n",
       "    .dataframe thead th {\n",
       "        text-align: right;\n",
       "    }\n",
       "</style>\n",
       "<table border=\"1\" class=\"dataframe\">\n",
       "  <thead>\n",
       "    <tr style=\"text-align: right;\">\n",
       "      <th></th>\n",
       "      <th>GEOID</th>\n",
       "      <th>MedIncPop25Plus</th>\n",
       "      <th>MedIncNoHSGrad</th>\n",
       "      <th>MedIncHSGrad</th>\n",
       "      <th>MedIncSomeCollege</th>\n",
       "      <th>MedIncBachDeg</th>\n",
       "      <th>MedIncGradProfDeg</th>\n",
       "      <th>DifNoHSGrad</th>\n",
       "      <th>DifHSGrad</th>\n",
       "      <th>DifSomeCollege</th>\n",
       "      <th>DifBachDegree</th>\n",
       "      <th>DifGradProfDeg</th>\n",
       "    </tr>\n",
       "    <tr>\n",
       "      <th>State</th>\n",
       "      <th></th>\n",
       "      <th></th>\n",
       "      <th></th>\n",
       "      <th></th>\n",
       "      <th></th>\n",
       "      <th></th>\n",
       "      <th></th>\n",
       "      <th></th>\n",
       "      <th></th>\n",
       "      <th></th>\n",
       "      <th></th>\n",
       "      <th></th>\n",
       "    </tr>\n",
       "  </thead>\n",
       "  <tbody>\n",
       "    <tr>\n",
       "      <th>Alabama</th>\n",
       "      <td>1067.000000</td>\n",
       "      <td>33225</td>\n",
       "      <td>22474</td>\n",
       "      <td>29147</td>\n",
       "      <td>32884</td>\n",
       "      <td>45397</td>\n",
       "      <td>55705</td>\n",
       "      <td>-31</td>\n",
       "      <td>-11</td>\n",
       "      <td>0</td>\n",
       "      <td>37</td>\n",
       "      <td>69</td>\n",
       "    </tr>\n",
       "    <tr>\n",
       "      <th>Alaska</th>\n",
       "      <td>2149.956522</td>\n",
       "      <td>40943</td>\n",
       "      <td>22759</td>\n",
       "      <td>32188</td>\n",
       "      <td>43973</td>\n",
       "      <td>55605</td>\n",
       "      <td>71704</td>\n",
       "      <td>-45</td>\n",
       "      <td>-22</td>\n",
       "      <td>9</td>\n",
       "      <td>40</td>\n",
       "      <td>79</td>\n",
       "    </tr>\n",
       "    <tr>\n",
       "      <th>Arizona</th>\n",
       "      <td>4013.866667</td>\n",
       "      <td>33428</td>\n",
       "      <td>21939</td>\n",
       "      <td>29111</td>\n",
       "      <td>33344</td>\n",
       "      <td>44925</td>\n",
       "      <td>54105</td>\n",
       "      <td>-33</td>\n",
       "      <td>-13</td>\n",
       "      <td>0</td>\n",
       "      <td>35</td>\n",
       "      <td>64</td>\n",
       "    </tr>\n",
       "    <tr>\n",
       "      <th>Arkansas</th>\n",
       "      <td>5074.123288</td>\n",
       "      <td>31801</td>\n",
       "      <td>23770</td>\n",
       "      <td>28295</td>\n",
       "      <td>30635</td>\n",
       "      <td>44001</td>\n",
       "      <td>54209</td>\n",
       "      <td>-24</td>\n",
       "      <td>-10</td>\n",
       "      <td>-3</td>\n",
       "      <td>38</td>\n",
       "      <td>70</td>\n",
       "    </tr>\n",
       "    <tr>\n",
       "      <th>California</th>\n",
       "      <td>6059.142857</td>\n",
       "      <td>40019</td>\n",
       "      <td>24085</td>\n",
       "      <td>31918</td>\n",
       "      <td>38120</td>\n",
       "      <td>56615</td>\n",
       "      <td>75375</td>\n",
       "      <td>-37</td>\n",
       "      <td>-17</td>\n",
       "      <td>-2</td>\n",
       "      <td>43</td>\n",
       "      <td>90</td>\n",
       "    </tr>\n",
       "  </tbody>\n",
       "</table>\n",
       "</div>"
      ],
      "text/plain": [
       "                   GEOID  MedIncPop25Plus  MedIncNoHSGrad  MedIncHSGrad  \\\n",
       "State                                                                     \n",
       " Alabama     1067.000000            33225           22474         29147   \n",
       " Alaska      2149.956522            40943           22759         32188   \n",
       " Arizona     4013.866667            33428           21939         29111   \n",
       " Arkansas    5074.123288            31801           23770         28295   \n",
       " California  6059.142857            40019           24085         31918   \n",
       "\n",
       "             MedIncSomeCollege  MedIncBachDeg  MedIncGradProfDeg  DifNoHSGrad  \\\n",
       "State                                                                           \n",
       " Alabama                 32884          45397              55705          -31   \n",
       " Alaska                  43973          55605              71704          -45   \n",
       " Arizona                 33344          44925              54105          -33   \n",
       " Arkansas                30635          44001              54209          -24   \n",
       " California              38120          56615              75375          -37   \n",
       "\n",
       "             DifHSGrad  DifSomeCollege  DifBachDegree  DifGradProfDeg  \n",
       "State                                                                  \n",
       " Alabama           -11               0             37              69  \n",
       " Alaska            -22               9             40              79  \n",
       " Arizona           -13               0             35              64  \n",
       " Arkansas          -10              -3             38              70  \n",
       " California        -17              -2             43              90  "
      ]
     },
     "execution_count": 13,
     "metadata": {},
     "output_type": "execute_result"
    }
   ],
   "source": [
    "income_state['MedIncPop25Plus'] = income_state['MedIncPop25Plus'].astype(int)\n",
    "income_state.head()"
   ]
  },
  {
   "cell_type": "code",
   "execution_count": 14,
   "metadata": {},
   "outputs": [
    {
     "name": "stderr",
     "output_type": "stream",
     "text": [
      "/Users/djferrera/anaconda3/lib/python3.7/site-packages/ipykernel_launcher.py:2: FutureWarning: In a future version of pandas all arguments of DataFrame.drop except for the argument 'labels' will be keyword-only\n",
      "  \n"
     ]
    }
   ],
   "source": [
    "# remove GEOID column\n",
    "income_state = income_state.drop('GEOID',1)"
   ]
  },
  {
   "cell_type": "code",
   "execution_count": 16,
   "metadata": {},
   "outputs": [
    {
     "data": {
      "text/html": [
       "<div>\n",
       "<style scoped>\n",
       "    .dataframe tbody tr th:only-of-type {\n",
       "        vertical-align: middle;\n",
       "    }\n",
       "\n",
       "    .dataframe tbody tr th {\n",
       "        vertical-align: top;\n",
       "    }\n",
       "\n",
       "    .dataframe thead th {\n",
       "        text-align: right;\n",
       "    }\n",
       "</style>\n",
       "<table border=\"1\" class=\"dataframe\">\n",
       "  <thead>\n",
       "    <tr style=\"text-align: right;\">\n",
       "      <th></th>\n",
       "      <th>MedIncPop25Plus</th>\n",
       "      <th>MedIncNoHSGrad</th>\n",
       "      <th>MedIncHSGrad</th>\n",
       "      <th>MedIncSomeCollege</th>\n",
       "      <th>MedIncBachDeg</th>\n",
       "      <th>MedIncGradProfDeg</th>\n",
       "      <th>DifNoHSGrad</th>\n",
       "      <th>DifHSGrad</th>\n",
       "      <th>DifSomeCollege</th>\n",
       "      <th>DifBachDegree</th>\n",
       "      <th>DifGradProfDeg</th>\n",
       "    </tr>\n",
       "    <tr>\n",
       "      <th>State</th>\n",
       "      <th></th>\n",
       "      <th></th>\n",
       "      <th></th>\n",
       "      <th></th>\n",
       "      <th></th>\n",
       "      <th></th>\n",
       "      <th></th>\n",
       "      <th></th>\n",
       "      <th></th>\n",
       "      <th></th>\n",
       "      <th></th>\n",
       "    </tr>\n",
       "  </thead>\n",
       "  <tbody>\n",
       "    <tr>\n",
       "      <th>Alabama</th>\n",
       "      <td>33225</td>\n",
       "      <td>22474</td>\n",
       "      <td>29147</td>\n",
       "      <td>32884</td>\n",
       "      <td>45397</td>\n",
       "      <td>55705</td>\n",
       "      <td>-31</td>\n",
       "      <td>-11</td>\n",
       "      <td>0</td>\n",
       "      <td>37</td>\n",
       "      <td>69</td>\n",
       "    </tr>\n",
       "    <tr>\n",
       "      <th>Alaska</th>\n",
       "      <td>40943</td>\n",
       "      <td>22759</td>\n",
       "      <td>32188</td>\n",
       "      <td>43973</td>\n",
       "      <td>55605</td>\n",
       "      <td>71704</td>\n",
       "      <td>-45</td>\n",
       "      <td>-22</td>\n",
       "      <td>9</td>\n",
       "      <td>40</td>\n",
       "      <td>79</td>\n",
       "    </tr>\n",
       "    <tr>\n",
       "      <th>Arizona</th>\n",
       "      <td>33428</td>\n",
       "      <td>21939</td>\n",
       "      <td>29111</td>\n",
       "      <td>33344</td>\n",
       "      <td>44925</td>\n",
       "      <td>54105</td>\n",
       "      <td>-33</td>\n",
       "      <td>-13</td>\n",
       "      <td>0</td>\n",
       "      <td>35</td>\n",
       "      <td>64</td>\n",
       "    </tr>\n",
       "    <tr>\n",
       "      <th>Arkansas</th>\n",
       "      <td>31801</td>\n",
       "      <td>23770</td>\n",
       "      <td>28295</td>\n",
       "      <td>30635</td>\n",
       "      <td>44001</td>\n",
       "      <td>54209</td>\n",
       "      <td>-24</td>\n",
       "      <td>-10</td>\n",
       "      <td>-3</td>\n",
       "      <td>38</td>\n",
       "      <td>70</td>\n",
       "    </tr>\n",
       "    <tr>\n",
       "      <th>California</th>\n",
       "      <td>40019</td>\n",
       "      <td>24085</td>\n",
       "      <td>31918</td>\n",
       "      <td>38120</td>\n",
       "      <td>56615</td>\n",
       "      <td>75375</td>\n",
       "      <td>-37</td>\n",
       "      <td>-17</td>\n",
       "      <td>-2</td>\n",
       "      <td>43</td>\n",
       "      <td>90</td>\n",
       "    </tr>\n",
       "  </tbody>\n",
       "</table>\n",
       "</div>"
      ],
      "text/plain": [
       "             MedIncPop25Plus  MedIncNoHSGrad  MedIncHSGrad  MedIncSomeCollege  \\\n",
       "State                                                                           \n",
       " Alabama               33225           22474         29147              32884   \n",
       " Alaska                40943           22759         32188              43973   \n",
       " Arizona               33428           21939         29111              33344   \n",
       " Arkansas              31801           23770         28295              30635   \n",
       " California            40019           24085         31918              38120   \n",
       "\n",
       "             MedIncBachDeg  MedIncGradProfDeg  DifNoHSGrad  DifHSGrad  \\\n",
       "State                                                                   \n",
       " Alabama             45397              55705          -31        -11   \n",
       " Alaska              55605              71704          -45        -22   \n",
       " Arizona             44925              54105          -33        -13   \n",
       " Arkansas            44001              54209          -24        -10   \n",
       " California          56615              75375          -37        -17   \n",
       "\n",
       "             DifSomeCollege  DifBachDegree  DifGradProfDeg  \n",
       "State                                                       \n",
       " Alabama                  0             37              69  \n",
       " Alaska                   9             40              79  \n",
       " Arizona                  0             35              64  \n",
       " Arkansas                -3             38              70  \n",
       " California              -2             43              90  "
      ]
     },
     "execution_count": 16,
     "metadata": {},
     "output_type": "execute_result"
    }
   ],
   "source": [
    "income_state.head()"
   ]
  },
  {
   "cell_type": "code",
   "execution_count": 17,
   "metadata": {},
   "outputs": [],
   "source": [
    "# set index\n",
    "income_state.reset_index(inplace = True, drop = False)"
   ]
  },
  {
   "cell_type": "code",
   "execution_count": 18,
   "metadata": {},
   "outputs": [],
   "source": [
    "# title index column\n",
    "income_state.index.name='index'\n",
    "income_state['index']=income_state.index\n",
    "income_state = income_state.reset_index(drop=True)"
   ]
  },
  {
   "cell_type": "code",
   "execution_count": 19,
   "metadata": {},
   "outputs": [],
   "source": [
    "# move index to first column\n",
    "income_state = income_state[ ['index'] + [ col for col in income_state.columns if col != 'index' ] ]"
   ]
  },
  {
   "cell_type": "code",
   "execution_count": 20,
   "metadata": {},
   "outputs": [
    {
     "data": {
      "text/html": [
       "<div>\n",
       "<style scoped>\n",
       "    .dataframe tbody tr th:only-of-type {\n",
       "        vertical-align: middle;\n",
       "    }\n",
       "\n",
       "    .dataframe tbody tr th {\n",
       "        vertical-align: top;\n",
       "    }\n",
       "\n",
       "    .dataframe thead th {\n",
       "        text-align: right;\n",
       "    }\n",
       "</style>\n",
       "<table border=\"1\" class=\"dataframe\">\n",
       "  <thead>\n",
       "    <tr style=\"text-align: right;\">\n",
       "      <th></th>\n",
       "      <th>index</th>\n",
       "      <th>State</th>\n",
       "      <th>MedIncPop25Plus</th>\n",
       "      <th>MedIncNoHSGrad</th>\n",
       "      <th>MedIncHSGrad</th>\n",
       "      <th>MedIncSomeCollege</th>\n",
       "      <th>MedIncBachDeg</th>\n",
       "      <th>MedIncGradProfDeg</th>\n",
       "      <th>DifNoHSGrad</th>\n",
       "      <th>DifHSGrad</th>\n",
       "      <th>DifSomeCollege</th>\n",
       "      <th>DifBachDegree</th>\n",
       "      <th>DifGradProfDeg</th>\n",
       "    </tr>\n",
       "  </thead>\n",
       "  <tbody>\n",
       "    <tr>\n",
       "      <th>0</th>\n",
       "      <td>0</td>\n",
       "      <td>Alabama</td>\n",
       "      <td>33225</td>\n",
       "      <td>22474</td>\n",
       "      <td>29147</td>\n",
       "      <td>32884</td>\n",
       "      <td>45397</td>\n",
       "      <td>55705</td>\n",
       "      <td>-31</td>\n",
       "      <td>-11</td>\n",
       "      <td>0</td>\n",
       "      <td>37</td>\n",
       "      <td>69</td>\n",
       "    </tr>\n",
       "    <tr>\n",
       "      <th>1</th>\n",
       "      <td>1</td>\n",
       "      <td>Alaska</td>\n",
       "      <td>40943</td>\n",
       "      <td>22759</td>\n",
       "      <td>32188</td>\n",
       "      <td>43973</td>\n",
       "      <td>55605</td>\n",
       "      <td>71704</td>\n",
       "      <td>-45</td>\n",
       "      <td>-22</td>\n",
       "      <td>9</td>\n",
       "      <td>40</td>\n",
       "      <td>79</td>\n",
       "    </tr>\n",
       "    <tr>\n",
       "      <th>2</th>\n",
       "      <td>2</td>\n",
       "      <td>Arizona</td>\n",
       "      <td>33428</td>\n",
       "      <td>21939</td>\n",
       "      <td>29111</td>\n",
       "      <td>33344</td>\n",
       "      <td>44925</td>\n",
       "      <td>54105</td>\n",
       "      <td>-33</td>\n",
       "      <td>-13</td>\n",
       "      <td>0</td>\n",
       "      <td>35</td>\n",
       "      <td>64</td>\n",
       "    </tr>\n",
       "    <tr>\n",
       "      <th>3</th>\n",
       "      <td>3</td>\n",
       "      <td>Arkansas</td>\n",
       "      <td>31801</td>\n",
       "      <td>23770</td>\n",
       "      <td>28295</td>\n",
       "      <td>30635</td>\n",
       "      <td>44001</td>\n",
       "      <td>54209</td>\n",
       "      <td>-24</td>\n",
       "      <td>-10</td>\n",
       "      <td>-3</td>\n",
       "      <td>38</td>\n",
       "      <td>70</td>\n",
       "    </tr>\n",
       "    <tr>\n",
       "      <th>4</th>\n",
       "      <td>4</td>\n",
       "      <td>California</td>\n",
       "      <td>40019</td>\n",
       "      <td>24085</td>\n",
       "      <td>31918</td>\n",
       "      <td>38120</td>\n",
       "      <td>56615</td>\n",
       "      <td>75375</td>\n",
       "      <td>-37</td>\n",
       "      <td>-17</td>\n",
       "      <td>-2</td>\n",
       "      <td>43</td>\n",
       "      <td>90</td>\n",
       "    </tr>\n",
       "  </tbody>\n",
       "</table>\n",
       "</div>"
      ],
      "text/plain": [
       "   index        State  MedIncPop25Plus  MedIncNoHSGrad  MedIncHSGrad  \\\n",
       "0      0      Alabama            33225           22474         29147   \n",
       "1      1       Alaska            40943           22759         32188   \n",
       "2      2      Arizona            33428           21939         29111   \n",
       "3      3     Arkansas            31801           23770         28295   \n",
       "4      4   California            40019           24085         31918   \n",
       "\n",
       "   MedIncSomeCollege  MedIncBachDeg  MedIncGradProfDeg  DifNoHSGrad  \\\n",
       "0              32884          45397              55705          -31   \n",
       "1              43973          55605              71704          -45   \n",
       "2              33344          44925              54105          -33   \n",
       "3              30635          44001              54209          -24   \n",
       "4              38120          56615              75375          -37   \n",
       "\n",
       "   DifHSGrad  DifSomeCollege  DifBachDegree  DifGradProfDeg  \n",
       "0        -11               0             37              69  \n",
       "1        -22               9             40              79  \n",
       "2        -13               0             35              64  \n",
       "3        -10              -3             38              70  \n",
       "4        -17              -2             43              90  "
      ]
     },
     "execution_count": 20,
     "metadata": {},
     "output_type": "execute_result"
    }
   ],
   "source": [
    "income_state.head()"
   ]
  },
  {
   "cell_type": "code",
   "execution_count": 21,
   "metadata": {},
   "outputs": [
    {
     "data": {
      "text/plain": [
       "index                 int64\n",
       "State                object\n",
       "MedIncPop25Plus       int64\n",
       "MedIncNoHSGrad        int64\n",
       "MedIncHSGrad          int64\n",
       "MedIncSomeCollege     int64\n",
       "MedIncBachDeg         int64\n",
       "MedIncGradProfDeg     int64\n",
       "DifNoHSGrad           int64\n",
       "DifHSGrad             int64\n",
       "DifSomeCollege        int64\n",
       "DifBachDegree         int64\n",
       "DifGradProfDeg        int64\n",
       "dtype: object"
      ]
     },
     "execution_count": 21,
     "metadata": {},
     "output_type": "execute_result"
    }
   ],
   "source": [
    "income_state.dtypes"
   ]
  },
  {
   "cell_type": "code",
   "execution_count": 24,
   "metadata": {},
   "outputs": [],
   "source": [
    "# export CSV\n",
    "income_state.to_csv(r\"/Users/djferrera/Documents/DIANE/Pratt/04-Fall-2021/INFO-664/00-final-project/data/CENSUS/income_state.csv\", index = True)"
   ]
  },
  {
   "cell_type": "markdown",
   "metadata": {},
   "source": [
    "# Small Multiples / Subplots"
   ]
  },
  {
   "cell_type": "code",
   "execution_count": 25,
   "metadata": {},
   "outputs": [],
   "source": [
    "from plotly.subplots import make_subplots\n",
    "import plotly.graph_objects as go"
   ]
  },
  {
   "cell_type": "code",
   "execution_count": 262,
   "metadata": {},
   "outputs": [
    {
     "data": {
      "application/vnd.plotly.v1+json": {
       "config": {
        "plotlyServerURL": "https://plotly.com"
       },
       "data": [
        {
         "hovertemplate": "%{y:$,}<extra></extra>",
         "marker": {
          "color": [
           "#79c2c5",
           "#3c9fbc",
           "#1c7aac",
           "#00569b",
           "#0c3575",
           "#101650"
          ]
         },
         "type": "bar",
         "x": [
          "Median",
          "Did Not Graduate HS",
          "HS Graduate",
          "Some College",
          "Bachelor's Degree",
          "Graduate / Professional Degree"
         ],
         "xaxis": "x",
         "y": [
          33225,
          22474,
          29147,
          32884,
          45397,
          55705
         ],
         "yaxis": "y"
        },
        {
         "hovertemplate": "%{y:$,}<extra></extra>",
         "marker": {
          "color": [
           "#79c2c5",
           "#3c9fbc",
           "#1c7aac",
           "#00569b",
           "#0c3575",
           "#101650"
          ]
         },
         "type": "bar",
         "x": [
          "Median",
          "Did Not Graduate HS",
          "HS Graduate",
          "Some College",
          "Bachelor's Degree",
          "Graduate / Professional Degree"
         ],
         "xaxis": "x2",
         "y": [
          40943,
          22759,
          32188,
          43973,
          55605,
          71704
         ],
         "yaxis": "y2"
        },
        {
         "hovertemplate": "%{y:$,}<extra></extra>",
         "marker": {
          "color": [
           "#79c2c5",
           "#3c9fbc",
           "#1c7aac",
           "#00569b",
           "#0c3575",
           "#101650"
          ]
         },
         "type": "bar",
         "x": [
          "Median",
          "Did Not Graduate HS",
          "HS Graduate",
          "Some College",
          "Bachelor's Degree",
          "Graduate / Professional Degree"
         ],
         "xaxis": "x3",
         "y": [
          33428,
          21939,
          29111,
          33344,
          44925,
          54105
         ],
         "yaxis": "y3"
        },
        {
         "hovertemplate": "%{y:$,}<extra></extra>",
         "marker": {
          "color": [
           "#79c2c5",
           "#3c9fbc",
           "#1c7aac",
           "#00569b",
           "#0c3575",
           "#101650"
          ]
         },
         "type": "bar",
         "x": [
          "Median",
          "Did Not Graduate HS",
          "HS Graduate",
          "Some College",
          "Bachelor's Degree",
          "Graduate / Professional Degree"
         ],
         "xaxis": "x4",
         "y": [
          31801,
          23770,
          28295,
          30635,
          44001,
          54209
         ],
         "yaxis": "y4"
        },
        {
         "hovertemplate": "%{y:$,}<extra></extra>",
         "marker": {
          "color": [
           "#79c2c5",
           "#3c9fbc",
           "#1c7aac",
           "#00569b",
           "#0c3575",
           "#101650"
          ]
         },
         "type": "bar",
         "x": [
          "Median",
          "Did Not Graduate HS",
          "HS Graduate",
          "Some College",
          "Bachelor's Degree",
          "Graduate / Professional Degree"
         ],
         "xaxis": "x5",
         "y": [
          40019,
          24085,
          31918,
          38120,
          56615,
          75375
         ],
         "yaxis": "y5"
        },
        {
         "hovertemplate": "%{y:$,}<extra></extra>",
         "marker": {
          "color": [
           "#79c2c5",
           "#3c9fbc",
           "#1c7aac",
           "#00569b",
           "#0c3575",
           "#101650"
          ]
         },
         "type": "bar",
         "x": [
          "Median",
          "Did Not Graduate HS",
          "HS Graduate",
          "Some College",
          "Bachelor's Degree",
          "Graduate / Professional Degree"
         ],
         "xaxis": "x6",
         "y": [
          37843,
          27956,
          32447,
          34723,
          45357,
          54928
         ],
         "yaxis": "y6"
        },
        {
         "hovertemplate": "%{y:$,}<extra></extra>",
         "marker": {
          "color": [
           "#79c2c5",
           "#3c9fbc",
           "#1c7aac",
           "#00569b",
           "#0c3575",
           "#101650"
          ]
         },
         "type": "bar",
         "x": [
          "Median",
          "Did Not Graduate HS",
          "HS Graduate",
          "Some College",
          "Bachelor's Degree",
          "Graduate / Professional Degree"
         ],
         "xaxis": "x7",
         "y": [
          50370,
          26030,
          38874,
          44426,
          63285,
          81581
         ],
         "yaxis": "y7"
        },
        {
         "hovertemplate": "%{y:$,}<extra></extra>",
         "marker": {
          "color": [
           "#79c2c5",
           "#3c9fbc",
           "#1c7aac",
           "#00569b",
           "#0c3575",
           "#101650"
          ]
         },
         "type": "bar",
         "x": [
          "Median",
          "Did Not Graduate HS",
          "HS Graduate",
          "Some College",
          "Bachelor's Degree",
          "Graduate / Professional Degree"
         ],
         "xaxis": "x8",
         "y": [
          41124,
          27027,
          32453,
          37939,
          54046,
          69162
         ],
         "yaxis": "y8"
        },
        {
         "hovertemplate": "%{y:$,}<extra></extra>",
         "marker": {
          "color": [
           "#79c2c5",
           "#3c9fbc",
           "#1c7aac",
           "#00569b",
           "#0c3575",
           "#101650"
          ]
         },
         "type": "bar",
         "x": [
          "Median",
          "Did Not Graduate HS",
          "HS Graduate",
          "Some College",
          "Bachelor's Degree",
          "Graduate / Professional Degree"
         ],
         "xaxis": "x9",
         "y": [
          33151,
          22374,
          28188,
          32715,
          44193,
          57066
         ],
         "yaxis": "y9"
        },
        {
         "hovertemplate": "%{y:$,}<extra></extra>",
         "marker": {
          "color": [
           "#79c2c5",
           "#3c9fbc",
           "#1c7aac",
           "#00569b",
           "#0c3575",
           "#101650"
          ]
         },
         "type": "bar",
         "x": [
          "Median",
          "Did Not Graduate HS",
          "HS Graduate",
          "Some College",
          "Bachelor's Degree",
          "Graduate / Professional Degree"
         ],
         "xaxis": "x10",
         "y": [
          33836,
          23214,
          29450,
          33549,
          47105,
          57946
         ],
         "yaxis": "y10"
        },
        {
         "hovertemplate": "%{y:$,}<extra></extra>",
         "marker": {
          "color": [
           "#79c2c5",
           "#3c9fbc",
           "#1c7aac",
           "#00569b",
           "#0c3575",
           "#101650"
          ]
         },
         "type": "bar",
         "x": [
          "Median",
          "Did Not Graduate HS",
          "HS Graduate",
          "Some College",
          "Bachelor's Degree",
          "Graduate / Professional Degree"
         ],
         "xaxis": "x11",
         "y": [
          40472,
          28792,
          34474,
          39181,
          48382,
          62564
         ],
         "yaxis": "y11"
        },
        {
         "hovertemplate": "%{y:$,}<extra></extra>",
         "marker": {
          "color": [
           "#79c2c5",
           "#3c9fbc",
           "#1c7aac",
           "#00569b",
           "#0c3575",
           "#101650"
          ]
         },
         "type": "bar",
         "x": [
          "Median",
          "Did Not Graduate HS",
          "HS Graduate",
          "Some College",
          "Bachelor's Degree",
          "Graduate / Professional Degree"
         ],
         "xaxis": "x12",
         "y": [
          32462,
          24879,
          28925,
          31648,
          40724,
          54906
         ],
         "yaxis": "y12"
        },
        {
         "hovertemplate": "%{y:$,}<extra></extra>",
         "marker": {
          "color": [
           "#79c2c5",
           "#3c9fbc",
           "#1c7aac",
           "#00569b",
           "#0c3575",
           "#101650"
          ]
         },
         "type": "bar",
         "x": [
          "Median",
          "Did Not Graduate HS",
          "HS Graduate",
          "Some College",
          "Bachelor's Degree",
          "Graduate / Professional Degree"
         ],
         "xaxis": "x13",
         "y": [
          38000,
          22866,
          31876,
          36372,
          48982,
          61167
         ],
         "yaxis": "y13"
        },
        {
         "hovertemplate": "%{y:$,}<extra></extra>",
         "marker": {
          "color": [
           "#79c2c5",
           "#3c9fbc",
           "#1c7aac",
           "#00569b",
           "#0c3575",
           "#101650"
          ]
         },
         "type": "bar",
         "x": [
          "Median",
          "Did Not Graduate HS",
          "HS Graduate",
          "Some College",
          "Bachelor's Degree",
          "Graduate / Professional Degree"
         ],
         "xaxis": "x14",
         "y": [
          37544,
          25996,
          33119,
          36634,
          47683,
          59846
         ],
         "yaxis": "y14"
        },
        {
         "hovertemplate": "%{y:$,}<extra></extra>",
         "marker": {
          "color": [
           "#79c2c5",
           "#3c9fbc",
           "#1c7aac",
           "#00569b",
           "#0c3575",
           "#101650"
          ]
         },
         "type": "bar",
         "x": [
          "Median",
          "Did Not Graduate HS",
          "HS Graduate",
          "Some College",
          "Bachelor's Degree",
          "Graduate / Professional Degree"
         ],
         "xaxis": "x15",
         "y": [
          38252,
          28006,
          33089,
          36802,
          47603,
          61689
         ],
         "yaxis": "y15"
        },
        {
         "hovertemplate": "%{y:$,}<extra></extra>",
         "marker": {
          "color": [
           "#79c2c5",
           "#3c9fbc",
           "#1c7aac",
           "#00569b",
           "#0c3575",
           "#101650"
          ]
         },
         "type": "bar",
         "x": [
          "Median",
          "Did Not Graduate HS",
          "HS Graduate",
          "Some College",
          "Bachelor's Degree",
          "Graduate / Professional Degree"
         ],
         "xaxis": "x16",
         "y": [
          35319,
          26134,
          30238,
          34367,
          43051,
          52628
         ],
         "yaxis": "y16"
        },
        {
         "hovertemplate": "%{y:$,}<extra></extra>",
         "marker": {
          "color": [
           "#79c2c5",
           "#3c9fbc",
           "#1c7aac",
           "#00569b",
           "#0c3575",
           "#101650"
          ]
         },
         "type": "bar",
         "x": [
          "Median",
          "Did Not Graduate HS",
          "HS Graduate",
          "Some College",
          "Bachelor's Degree",
          "Graduate / Professional Degree"
         ],
         "xaxis": "x17",
         "y": [
          33736,
          22905,
          29794,
          32493,
          45499,
          54720
         ],
         "yaxis": "y17"
        },
        {
         "hovertemplate": "%{y:$,}<extra></extra>",
         "marker": {
          "color": [
           "#79c2c5",
           "#3c9fbc",
           "#1c7aac",
           "#00569b",
           "#0c3575",
           "#101650"
          ]
         },
         "type": "bar",
         "x": [
          "Median",
          "Did Not Graduate HS",
          "HS Graduate",
          "Some College",
          "Bachelor's Degree",
          "Graduate / Professional Degree"
         ],
         "xaxis": "x18",
         "y": [
          34687,
          22016,
          30433,
          33796,
          47289,
          57198
         ],
         "yaxis": "y18"
        },
        {
         "hovertemplate": "%{y:$,}<extra></extra>",
         "marker": {
          "color": [
           "#79c2c5",
           "#3c9fbc",
           "#1c7aac",
           "#00569b",
           "#0c3575",
           "#101650"
          ]
         },
         "type": "bar",
         "x": [
          "Median",
          "Did Not Graduate HS",
          "HS Graduate",
          "Some College",
          "Bachelor's Degree",
          "Graduate / Professional Degree"
         ],
         "xaxis": "x19",
         "y": [
          35016,
          22018,
          29441,
          33959,
          42898,
          55313
         ],
         "yaxis": "y19"
        },
        {
         "hovertemplate": "%{y:$,}<extra></extra>",
         "marker": {
          "color": [
           "#79c2c5",
           "#3c9fbc",
           "#1c7aac",
           "#00569b",
           "#0c3575",
           "#101650"
          ]
         },
         "type": "bar",
         "x": [
          "Median",
          "Did Not Graduate HS",
          "HS Graduate",
          "Some College",
          "Bachelor's Degree",
          "Graduate / Professional Degree"
         ],
         "xaxis": "x20",
         "y": [
          47902,
          26933,
          36240,
          43319,
          60568,
          77737
         ],
         "yaxis": "y20"
        },
        {
         "hovertemplate": "%{y:$,}<extra></extra>",
         "marker": {
          "color": [
           "#79c2c5",
           "#3c9fbc",
           "#1c7aac",
           "#00569b",
           "#0c3575",
           "#101650"
          ]
         },
         "type": "bar",
         "x": [
          "Median",
          "Did Not Graduate HS",
          "HS Graduate",
          "Some College",
          "Bachelor's Degree",
          "Graduate / Professional Degree"
         ],
         "xaxis": "x21",
         "y": [
          48467,
          27745,
          36950,
          41932,
          57758,
          72572
         ],
         "yaxis": "y21"
        },
        {
         "hovertemplate": "%{y:$,}<extra></extra>",
         "marker": {
          "color": [
           "#79c2c5",
           "#3c9fbc",
           "#1c7aac",
           "#00569b",
           "#0c3575",
           "#101650"
          ]
         },
         "type": "bar",
         "x": [
          "Median",
          "Did Not Graduate HS",
          "HS Graduate",
          "Some College",
          "Bachelor's Degree",
          "Graduate / Professional Degree"
         ],
         "xaxis": "x22",
         "y": [
          33943,
          21519,
          28365,
          32727,
          46811,
          60820
         ],
         "yaxis": "y22"
        },
        {
         "hovertemplate": "%{y:$,}<extra></extra>",
         "marker": {
          "color": [
           "#79c2c5",
           "#3c9fbc",
           "#1c7aac",
           "#00569b",
           "#0c3575",
           "#101650"
          ]
         },
         "type": "bar",
         "x": [
          "Median",
          "Did Not Graduate HS",
          "HS Graduate",
          "Some College",
          "Bachelor's Degree",
          "Graduate / Professional Degree"
         ],
         "xaxis": "x23",
         "y": [
          39698,
          26337,
          32899,
          38612,
          50226,
          63047
         ],
         "yaxis": "y23"
        },
        {
         "hovertemplate": "%{y:$,}<extra></extra>",
         "marker": {
          "color": [
           "#79c2c5",
           "#3c9fbc",
           "#1c7aac",
           "#00569b",
           "#0c3575",
           "#101650"
          ]
         },
         "type": "bar",
         "x": [
          "Median",
          "Did Not Graduate HS",
          "HS Graduate",
          "Some College",
          "Bachelor's Degree",
          "Graduate / Professional Degree"
         ],
         "xaxis": "x24",
         "y": [
          31068,
          23340,
          26876,
          30259,
          40489,
          51738
         ],
         "yaxis": "y24"
        },
        {
         "hovertemplate": "%{y:$,}<extra></extra>",
         "marker": {
          "color": [
           "#79c2c5",
           "#3c9fbc",
           "#1c7aac",
           "#00569b",
           "#0c3575",
           "#101650"
          ]
         },
         "type": "bar",
         "x": [
          "Median",
          "Did Not Graduate HS",
          "HS Graduate",
          "Some College",
          "Bachelor's Degree",
          "Graduate / Professional Degree"
         ],
         "xaxis": "x25",
         "y": [
          32872,
          23149,
          29361,
          31810,
          41825,
          49986
         ],
         "yaxis": "y25"
        },
        {
         "hovertemplate": "%{y:$,}<extra></extra>",
         "marker": {
          "color": [
           "#79c2c5",
           "#3c9fbc",
           "#1c7aac",
           "#00569b",
           "#0c3575",
           "#101650"
          ]
         },
         "type": "bar",
         "x": [
          "Median",
          "Did Not Graduate HS",
          "HS Graduate",
          "Some College",
          "Bachelor's Degree",
          "Graduate / Professional Degree"
         ],
         "xaxis": "x26",
         "y": [
          33111,
          24584,
          28386,
          31269,
          40059,
          55070
         ],
         "yaxis": "y26"
        },
        {
         "hovertemplate": "%{y:$,}<extra></extra>",
         "marker": {
          "color": [
           "#79c2c5",
           "#3c9fbc",
           "#1c7aac",
           "#00569b",
           "#0c3575",
           "#101650"
          ]
         },
         "type": "bar",
         "x": [
          "Median",
          "Did Not Graduate HS",
          "HS Graduate",
          "Some College",
          "Bachelor's Degree",
          "Graduate / Professional Degree"
         ],
         "xaxis": "x27",
         "y": [
          36150,
          27288,
          31390,
          34933,
          43660,
          58354
         ],
         "yaxis": "y27"
        },
        {
         "hovertemplate": "%{y:$,}<extra></extra>",
         "marker": {
          "color": [
           "#79c2c5",
           "#3c9fbc",
           "#1c7aac",
           "#00569b",
           "#0c3575",
           "#101650"
          ]
         },
         "type": "bar",
         "x": [
          "Median",
          "Did Not Graduate HS",
          "HS Graduate",
          "Some College",
          "Bachelor's Degree",
          "Graduate / Professional Degree"
         ],
         "xaxis": "x28",
         "y": [
          38553,
          33529,
          34927,
          38043,
          47823,
          67272
         ],
         "yaxis": "y28"
        },
        {
         "hovertemplate": "%{y:$,}<extra></extra>",
         "marker": {
          "color": [
           "#79c2c5",
           "#3c9fbc",
           "#1c7aac",
           "#00569b",
           "#0c3575",
           "#101650"
          ]
         },
         "type": "bar",
         "x": [
          "Median",
          "Did Not Graduate HS",
          "HS Graduate",
          "Some College",
          "Bachelor's Degree",
          "Graduate / Professional Degree"
         ],
         "xaxis": "x29",
         "y": [
          42304,
          26732,
          34670,
          39477,
          51329,
          66175
         ],
         "yaxis": "y29"
        },
        {
         "hovertemplate": "%{y:$,}<extra></extra>",
         "marker": {
          "color": [
           "#79c2c5",
           "#3c9fbc",
           "#1c7aac",
           "#00569b",
           "#0c3575",
           "#101650"
          ]
         },
         "type": "bar",
         "x": [
          "Median",
          "Did Not Graduate HS",
          "HS Graduate",
          "Some College",
          "Bachelor's Degree",
          "Graduate / Professional Degree"
         ],
         "xaxis": "x30",
         "y": [
          50276,
          25632,
          35706,
          43648,
          65228,
          86787
         ],
         "yaxis": "y30"
        },
        {
         "hovertemplate": "%{y:$,}<extra></extra>",
         "marker": {
          "color": [
           "#79c2c5",
           "#3c9fbc",
           "#1c7aac",
           "#00569b",
           "#0c3575",
           "#101650"
          ]
         },
         "type": "bar",
         "x": [
          "Median",
          "Did Not Graduate HS",
          "HS Graduate",
          "Some College",
          "Bachelor's Degree",
          "Graduate / Professional Degree"
         ],
         "xaxis": "x31",
         "y": [
          32369,
          22794,
          26980,
          31561,
          42646,
          56949
         ],
         "yaxis": "y31"
        },
        {
         "hovertemplate": "%{y:$,}<extra></extra>",
         "marker": {
          "color": [
           "#79c2c5",
           "#3c9fbc",
           "#1c7aac",
           "#00569b",
           "#0c3575",
           "#101650"
          ]
         },
         "type": "bar",
         "x": [
          "Median",
          "Did Not Graduate HS",
          "HS Graduate",
          "Some College",
          "Bachelor's Degree",
          "Graduate / Professional Degree"
         ],
         "xaxis": "x32",
         "y": [
          41235,
          24555,
          32522,
          38517,
          51861,
          66535
         ],
         "yaxis": "y32"
        },
        {
         "hovertemplate": "%{y:$,}<extra></extra>",
         "marker": {
          "color": [
           "#79c2c5",
           "#3c9fbc",
           "#1c7aac",
           "#00569b",
           "#0c3575",
           "#101650"
          ]
         },
         "type": "bar",
         "x": [
          "Median",
          "Did Not Graduate HS",
          "HS Graduate",
          "Some College",
          "Bachelor's Degree",
          "Graduate / Professional Degree"
         ],
         "xaxis": "x33",
         "y": [
          33815,
          22117,
          28603,
          33010,
          45322,
          54865
         ],
         "yaxis": "y33"
        },
        {
         "hovertemplate": "%{y:$,}<extra></extra>",
         "marker": {
          "color": [
           "#79c2c5",
           "#3c9fbc",
           "#1c7aac",
           "#00569b",
           "#0c3575",
           "#101650"
          ]
         },
         "type": "bar",
         "x": [
          "Median",
          "Did Not Graduate HS",
          "HS Graduate",
          "Some College",
          "Bachelor's Degree",
          "Graduate / Professional Degree"
         ],
         "xaxis": "x34",
         "y": [
          41605,
          30885,
          35870,
          41350,
          48487,
          57253
         ],
         "yaxis": "y34"
        },
        {
         "hovertemplate": "%{y:$,}<extra></extra>",
         "marker": {
          "color": [
           "#79c2c5",
           "#3c9fbc",
           "#1c7aac",
           "#00569b",
           "#0c3575",
           "#101650"
          ]
         },
         "type": "bar",
         "x": [
          "Median",
          "Did Not Graduate HS",
          "HS Graduate",
          "Some College",
          "Bachelor's Degree",
          "Graduate / Professional Degree"
         ],
         "xaxis": "x35",
         "y": [
          37614,
          23894,
          31842,
          36252,
          50103,
          63041
         ],
         "yaxis": "y35"
        },
        {
         "hovertemplate": "%{y:$,}<extra></extra>",
         "marker": {
          "color": [
           "#79c2c5",
           "#3c9fbc",
           "#1c7aac",
           "#00569b",
           "#0c3575",
           "#101650"
          ]
         },
         "type": "bar",
         "x": [
          "Median",
          "Did Not Graduate HS",
          "HS Graduate",
          "Some College",
          "Bachelor's Degree",
          "Graduate / Professional Degree"
         ],
         "xaxis": "x36",
         "y": [
          33885,
          24738,
          29607,
          33086,
          43637,
          53319
         ],
         "yaxis": "y36"
        },
        {
         "hovertemplate": "%{y:$,}<extra></extra>",
         "marker": {
          "color": [
           "#79c2c5",
           "#3c9fbc",
           "#1c7aac",
           "#00569b",
           "#0c3575",
           "#101650"
          ]
         },
         "type": "bar",
         "x": [
          "Median",
          "Did Not Graduate HS",
          "HS Graduate",
          "Some College",
          "Bachelor's Degree",
          "Graduate / Professional Degree"
         ],
         "xaxis": "x37",
         "y": [
          34860,
          25856,
          30427,
          33301,
          46206,
          58893
         ],
         "yaxis": "y37"
        },
        {
         "hovertemplate": "%{y:$,}<extra></extra>",
         "marker": {
          "color": [
           "#79c2c5",
           "#3c9fbc",
           "#1c7aac",
           "#00569b",
           "#0c3575",
           "#101650"
          ]
         },
         "type": "bar",
         "x": [
          "Median",
          "Did Not Graduate HS",
          "HS Graduate",
          "Some College",
          "Bachelor's Degree",
          "Graduate / Professional Degree"
         ],
         "xaxis": "x38",
         "y": [
          38310,
          25502,
          31900,
          36783,
          49801,
          65229
         ],
         "yaxis": "y38"
        },
        {
         "hovertemplate": "%{y:$,}<extra></extra>",
         "marker": {
          "color": [
           "#79c2c5",
           "#3c9fbc",
           "#1c7aac",
           "#00569b",
           "#0c3575",
           "#101650"
          ]
         },
         "type": "bar",
         "x": [
          "Median",
          "Did Not Graduate HS",
          "HS Graduate",
          "Some College",
          "Bachelor's Degree",
          "Graduate / Professional Degree"
         ],
         "xaxis": "x39",
         "y": [
          48836,
          29479,
          36466,
          41397,
          58117,
          81086
         ],
         "yaxis": "y39"
        },
        {
         "hovertemplate": "%{y:$,}<extra></extra>",
         "marker": {
          "color": [
           "#79c2c5",
           "#3c9fbc",
           "#1c7aac",
           "#00569b",
           "#0c3575",
           "#101650"
          ]
         },
         "type": "bar",
         "x": [
          "Median",
          "Did Not Graduate HS",
          "HS Graduate",
          "Some College",
          "Bachelor's Degree",
          "Graduate / Professional Degree"
         ],
         "xaxis": "x40",
         "y": [
          32733,
          21270,
          28303,
          32221,
          43625,
          53752
         ],
         "yaxis": "y40"
        },
        {
         "hovertemplate": "%{y:$,}<extra></extra>",
         "marker": {
          "color": [
           "#79c2c5",
           "#3c9fbc",
           "#1c7aac",
           "#00569b",
           "#0c3575",
           "#101650"
          ]
         },
         "type": "bar",
         "x": [
          "Median",
          "Did Not Graduate HS",
          "HS Graduate",
          "Some College",
          "Bachelor's Degree",
          "Graduate / Professional Degree"
         ],
         "xaxis": "x41",
         "y": [
          35866,
          26150,
          31190,
          34207,
          44687,
          53495
         ],
         "yaxis": "y41"
        },
        {
         "hovertemplate": "%{y:$,}<extra></extra>",
         "marker": {
          "color": [
           "#79c2c5",
           "#3c9fbc",
           "#1c7aac",
           "#00569b",
           "#0c3575",
           "#101650"
          ]
         },
         "type": "bar",
         "x": [
          "Median",
          "Did Not Graduate HS",
          "HS Graduate",
          "Some College",
          "Bachelor's Degree",
          "Graduate / Professional Degree"
         ],
         "xaxis": "x42",
         "y": [
          33294,
          22738,
          29290,
          33291,
          45150,
          55118
         ],
         "yaxis": "y42"
        },
        {
         "hovertemplate": "%{y:$,}<extra></extra>",
         "marker": {
          "color": [
           "#79c2c5",
           "#3c9fbc",
           "#1c7aac",
           "#00569b",
           "#0c3575",
           "#101650"
          ]
         },
         "type": "bar",
         "x": [
          "Median",
          "Did Not Graduate HS",
          "HS Graduate",
          "Some College",
          "Bachelor's Degree",
          "Graduate / Professional Degree"
         ],
         "xaxis": "x43",
         "y": [
          35411,
          24101,
          31178,
          35629,
          48894,
          58385
         ],
         "yaxis": "y43"
        },
        {
         "hovertemplate": "%{y:$,}<extra></extra>",
         "marker": {
          "color": [
           "#79c2c5",
           "#3c9fbc",
           "#1c7aac",
           "#00569b",
           "#0c3575",
           "#101650"
          ]
         },
         "type": "bar",
         "x": [
          "Median",
          "Did Not Graduate HS",
          "HS Graduate",
          "Some College",
          "Bachelor's Degree",
          "Graduate / Professional Degree"
         ],
         "xaxis": "x44",
         "y": [
          37244,
          26983,
          34113,
          34051,
          45744,
          67211
         ],
         "yaxis": "y44"
        },
        {
         "hovertemplate": "%{y:$,}<extra></extra>",
         "marker": {
          "color": [
           "#79c2c5",
           "#3c9fbc",
           "#1c7aac",
           "#00569b",
           "#0c3575",
           "#101650"
          ]
         },
         "type": "bar",
         "x": [
          "Median",
          "Did Not Graduate HS",
          "HS Graduate",
          "Some College",
          "Bachelor's Degree",
          "Graduate / Professional Degree"
         ],
         "xaxis": "x45",
         "y": [
          38212,
          26447,
          32796,
          36342,
          42219,
          58831
         ],
         "yaxis": "y45"
        },
        {
         "hovertemplate": "%{y:$,}<extra></extra>",
         "marker": {
          "color": [
           "#79c2c5",
           "#3c9fbc",
           "#1c7aac",
           "#00569b",
           "#0c3575",
           "#101650"
          ]
         },
         "type": "bar",
         "x": [
          "Median",
          "Did Not Graduate HS",
          "HS Graduate",
          "Some College",
          "Bachelor's Degree",
          "Graduate / Professional Degree"
         ],
         "xaxis": "x46",
         "y": [
          39141,
          24350,
          31314,
          37232,
          49377,
          62883
         ],
         "yaxis": "y46"
        },
        {
         "hovertemplate": "%{y:$,}<extra></extra>",
         "marker": {
          "color": [
           "#79c2c5",
           "#3c9fbc",
           "#1c7aac",
           "#00569b",
           "#0c3575",
           "#101650"
          ]
         },
         "type": "bar",
         "x": [
          "Median",
          "Did Not Graduate HS",
          "HS Graduate",
          "Some College",
          "Bachelor's Degree",
          "Graduate / Professional Degree"
         ],
         "xaxis": "x47",
         "y": [
          38071,
          27167,
          32798,
          36570,
          48940,
          64662
         ],
         "yaxis": "y47"
        },
        {
         "hovertemplate": "%{y:$,}<extra></extra>",
         "marker": {
          "color": [
           "#79c2c5",
           "#3c9fbc",
           "#1c7aac",
           "#00569b",
           "#0c3575",
           "#101650"
          ]
         },
         "type": "bar",
         "x": [
          "Median",
          "Did Not Graduate HS",
          "HS Graduate",
          "Some College",
          "Bachelor's Degree",
          "Graduate / Professional Degree"
         ],
         "xaxis": "x48",
         "y": [
          32885,
          21622,
          29027,
          31761,
          42600,
          51856
         ],
         "yaxis": "y48"
        },
        {
         "hovertemplate": "%{y:$,}<extra></extra>",
         "marker": {
          "color": [
           "#79c2c5",
           "#3c9fbc",
           "#1c7aac",
           "#00569b",
           "#0c3575",
           "#101650"
          ]
         },
         "type": "bar",
         "x": [
          "Median",
          "Did Not Graduate HS",
          "HS Graduate",
          "Some College",
          "Bachelor's Degree",
          "Graduate / Professional Degree"
         ],
         "xaxis": "x49",
         "y": [
          38325,
          27262,
          32407,
          37304,
          48273,
          60751
         ],
         "yaxis": "y49"
        },
        {
         "hovertemplate": "%{y:$,}<extra></extra>",
         "marker": {
          "color": [
           "#79c2c5",
           "#3c9fbc",
           "#1c7aac",
           "#00569b",
           "#0c3575",
           "#101650"
          ]
         },
         "type": "bar",
         "x": [
          "Median",
          "Did Not Graduate HS",
          "HS Graduate",
          "Some College",
          "Bachelor's Degree",
          "Graduate / Professional Degree"
         ],
         "xaxis": "x50",
         "y": [
          39187,
          30186,
          34082,
          36320,
          48193,
          62919
         ],
         "yaxis": "y50"
        }
       ],
       "layout": {
        "annotations": [
         {
          "font": {
           "size": 16
          },
          "showarrow": false,
          "text": "<b>Alabama<b>",
          "x": 0.08399999999999999,
          "xanchor": "center",
          "xref": "paper",
          "y": 1,
          "yanchor": "bottom",
          "yref": "paper"
         },
         {
          "font": {
           "size": 16
          },
          "showarrow": false,
          "text": "<b>Alaska<b>",
          "x": 0.292,
          "xanchor": "center",
          "xref": "paper",
          "y": 1,
          "yanchor": "bottom",
          "yref": "paper"
         },
         {
          "font": {
           "size": 16
          },
          "showarrow": false,
          "text": "<b>Arizona<b>",
          "x": 0.5,
          "xanchor": "center",
          "xref": "paper",
          "y": 1,
          "yanchor": "bottom",
          "yref": "paper"
         },
         {
          "font": {
           "size": 16
          },
          "showarrow": false,
          "text": "<b>Arkansas<b>",
          "x": 0.708,
          "xanchor": "center",
          "xref": "paper",
          "y": 1,
          "yanchor": "bottom",
          "yref": "paper"
         },
         {
          "font": {
           "size": 16
          },
          "showarrow": false,
          "text": "<b>California<b>",
          "x": 0.9159999999999999,
          "xanchor": "center",
          "xref": "paper",
          "y": 1,
          "yanchor": "bottom",
          "yref": "paper"
         },
         {
          "font": {
           "size": 16
          },
          "showarrow": false,
          "text": "<b>Colorado<b>",
          "x": 0.08399999999999999,
          "xanchor": "center",
          "xref": "paper",
          "y": 0.8950000000000001,
          "yanchor": "bottom",
          "yref": "paper"
         },
         {
          "font": {
           "size": 16
          },
          "showarrow": false,
          "text": "<b>Connecticut<b>",
          "x": 0.292,
          "xanchor": "center",
          "xref": "paper",
          "y": 0.8950000000000001,
          "yanchor": "bottom",
          "yref": "paper"
         },
         {
          "font": {
           "size": 16
          },
          "showarrow": false,
          "text": "<b>Delaware<b>",
          "x": 0.5,
          "xanchor": "center",
          "xref": "paper",
          "y": 0.8950000000000001,
          "yanchor": "bottom",
          "yref": "paper"
         },
         {
          "font": {
           "size": 16
          },
          "showarrow": false,
          "text": "<b>Florida<b>",
          "x": 0.708,
          "xanchor": "center",
          "xref": "paper",
          "y": 0.8950000000000001,
          "yanchor": "bottom",
          "yref": "paper"
         },
         {
          "font": {
           "size": 16
          },
          "showarrow": false,
          "text": "<b>Georgia<b>",
          "x": 0.9159999999999999,
          "xanchor": "center",
          "xref": "paper",
          "y": 0.8950000000000001,
          "yanchor": "bottom",
          "yref": "paper"
         },
         {
          "font": {
           "size": 16
          },
          "showarrow": false,
          "text": "<b>Hawaii<b>",
          "x": 0.08399999999999999,
          "xanchor": "center",
          "xref": "paper",
          "y": 0.7900000000000001,
          "yanchor": "bottom",
          "yref": "paper"
         },
         {
          "font": {
           "size": 16
          },
          "showarrow": false,
          "text": "<b>Idaho<b>",
          "x": 0.292,
          "xanchor": "center",
          "xref": "paper",
          "y": 0.7900000000000001,
          "yanchor": "bottom",
          "yref": "paper"
         },
         {
          "font": {
           "size": 16
          },
          "showarrow": false,
          "text": "<b>Illinois<b>",
          "x": 0.5,
          "xanchor": "center",
          "xref": "paper",
          "y": 0.7900000000000001,
          "yanchor": "bottom",
          "yref": "paper"
         },
         {
          "font": {
           "size": 16
          },
          "showarrow": false,
          "text": "<b> Indiana<b>",
          "x": 0.708,
          "xanchor": "center",
          "xref": "paper",
          "y": 0.7900000000000001,
          "yanchor": "bottom",
          "yref": "paper"
         },
         {
          "font": {
           "size": 16
          },
          "showarrow": false,
          "text": "<b>Iowa<b>",
          "x": 0.9159999999999999,
          "xanchor": "center",
          "xref": "paper",
          "y": 0.7900000000000001,
          "yanchor": "bottom",
          "yref": "paper"
         },
         {
          "font": {
           "size": 16
          },
          "showarrow": false,
          "text": "<b>Kansas<b>",
          "x": 0.08399999999999999,
          "xanchor": "center",
          "xref": "paper",
          "y": 0.6850000000000002,
          "yanchor": "bottom",
          "yref": "paper"
         },
         {
          "font": {
           "size": 16
          },
          "showarrow": false,
          "text": "<b>Kentucky<b>",
          "x": 0.292,
          "xanchor": "center",
          "xref": "paper",
          "y": 0.6850000000000002,
          "yanchor": "bottom",
          "yref": "paper"
         },
         {
          "font": {
           "size": 16
          },
          "showarrow": false,
          "text": "<b>Louisiana<b>",
          "x": 0.5,
          "xanchor": "center",
          "xref": "paper",
          "y": 0.6850000000000002,
          "yanchor": "bottom",
          "yref": "paper"
         },
         {
          "font": {
           "size": 16
          },
          "showarrow": false,
          "text": "<b>Maine<b>",
          "x": 0.708,
          "xanchor": "center",
          "xref": "paper",
          "y": 0.6850000000000002,
          "yanchor": "bottom",
          "yref": "paper"
         },
         {
          "font": {
           "size": 16
          },
          "showarrow": false,
          "text": "<b>Maryland<b>",
          "x": 0.9159999999999999,
          "xanchor": "center",
          "xref": "paper",
          "y": 0.6850000000000002,
          "yanchor": "bottom",
          "yref": "paper"
         },
         {
          "font": {
           "size": 16
          },
          "showarrow": false,
          "text": "<b>Massachusetts<b>",
          "x": 0.08399999999999999,
          "xanchor": "center",
          "xref": "paper",
          "y": 0.5800000000000001,
          "yanchor": "bottom",
          "yref": "paper"
         },
         {
          "font": {
           "size": 16
          },
          "showarrow": false,
          "text": "<b>Michigan<b>",
          "x": 0.292,
          "xanchor": "center",
          "xref": "paper",
          "y": 0.5800000000000001,
          "yanchor": "bottom",
          "yref": "paper"
         },
         {
          "font": {
           "size": 16
          },
          "showarrow": false,
          "text": "<b>Minnesota<b>",
          "x": 0.5,
          "xanchor": "center",
          "xref": "paper",
          "y": 0.5800000000000001,
          "yanchor": "bottom",
          "yref": "paper"
         },
         {
          "font": {
           "size": 16
          },
          "showarrow": false,
          "text": "<b>Mississippi<b>",
          "x": 0.708,
          "xanchor": "center",
          "xref": "paper",
          "y": 0.5800000000000001,
          "yanchor": "bottom",
          "yref": "paper"
         },
         {
          "font": {
           "size": 16
          },
          "showarrow": false,
          "text": "<b>Missouri<b>",
          "x": 0.9159999999999999,
          "xanchor": "center",
          "xref": "paper",
          "y": 0.5800000000000001,
          "yanchor": "bottom",
          "yref": "paper"
         },
         {
          "font": {
           "size": 16
          },
          "showarrow": false,
          "text": "<b>Montana<b>",
          "x": 0.08399999999999999,
          "xanchor": "center",
          "xref": "paper",
          "y": 0.47500000000000003,
          "yanchor": "bottom",
          "yref": "paper"
         },
         {
          "font": {
           "size": 16
          },
          "showarrow": false,
          "text": "<b>Nebraska<b>",
          "x": 0.292,
          "xanchor": "center",
          "xref": "paper",
          "y": 0.47500000000000003,
          "yanchor": "bottom",
          "yref": "paper"
         },
         {
          "font": {
           "size": 16
          },
          "showarrow": false,
          "text": "<b>Nevada<b>",
          "x": 0.5,
          "xanchor": "center",
          "xref": "paper",
          "y": 0.47500000000000003,
          "yanchor": "bottom",
          "yref": "paper"
         },
         {
          "font": {
           "size": 16
          },
          "showarrow": false,
          "text": "<b>New Hampshire<b>",
          "x": 0.708,
          "xanchor": "center",
          "xref": "paper",
          "y": 0.47500000000000003,
          "yanchor": "bottom",
          "yref": "paper"
         },
         {
          "font": {
           "size": 16
          },
          "showarrow": false,
          "text": "<b>New Jersey<b>",
          "x": 0.9159999999999999,
          "xanchor": "center",
          "xref": "paper",
          "y": 0.47500000000000003,
          "yanchor": "bottom",
          "yref": "paper"
         },
         {
          "font": {
           "size": 16
          },
          "showarrow": false,
          "text": "<b>New Mexico<b>",
          "x": 0.08399999999999999,
          "xanchor": "center",
          "xref": "paper",
          "y": 0.37000000000000005,
          "yanchor": "bottom",
          "yref": "paper"
         },
         {
          "font": {
           "size": 16
          },
          "showarrow": false,
          "text": "<b>New York<b>",
          "x": 0.292,
          "xanchor": "center",
          "xref": "paper",
          "y": 0.37000000000000005,
          "yanchor": "bottom",
          "yref": "paper"
         },
         {
          "font": {
           "size": 16
          },
          "showarrow": false,
          "text": "<b>North Carolina<b>",
          "x": 0.5,
          "xanchor": "center",
          "xref": "paper",
          "y": 0.37000000000000005,
          "yanchor": "bottom",
          "yref": "paper"
         },
         {
          "font": {
           "size": 16
          },
          "showarrow": false,
          "text": "<b>North Dakota<b>",
          "x": 0.708,
          "xanchor": "center",
          "xref": "paper",
          "y": 0.37000000000000005,
          "yanchor": "bottom",
          "yref": "paper"
         },
         {
          "font": {
           "size": 16
          },
          "showarrow": false,
          "text": "<b>Ohio<b>",
          "x": 0.9159999999999999,
          "xanchor": "center",
          "xref": "paper",
          "y": 0.37000000000000005,
          "yanchor": "bottom",
          "yref": "paper"
         },
         {
          "font": {
           "size": 16
          },
          "showarrow": false,
          "text": "<b>Oklahoma<b>",
          "x": 0.08399999999999999,
          "xanchor": "center",
          "xref": "paper",
          "y": 0.265,
          "yanchor": "bottom",
          "yref": "paper"
         },
         {
          "font": {
           "size": 16
          },
          "showarrow": false,
          "text": "<b>Oregon<b>",
          "x": 0.292,
          "xanchor": "center",
          "xref": "paper",
          "y": 0.265,
          "yanchor": "bottom",
          "yref": "paper"
         },
         {
          "font": {
           "size": 16
          },
          "showarrow": false,
          "text": "<b>Pennsylvania<b>",
          "x": 0.5,
          "xanchor": "center",
          "xref": "paper",
          "y": 0.265,
          "yanchor": "bottom",
          "yref": "paper"
         },
         {
          "font": {
           "size": 16
          },
          "showarrow": false,
          "text": "<b>Rhode Island<b>",
          "x": 0.708,
          "xanchor": "center",
          "xref": "paper",
          "y": 0.265,
          "yanchor": "bottom",
          "yref": "paper"
         },
         {
          "font": {
           "size": 16
          },
          "showarrow": false,
          "text": "<b>South Carolina<b>",
          "x": 0.9159999999999999,
          "xanchor": "center",
          "xref": "paper",
          "y": 0.265,
          "yanchor": "bottom",
          "yref": "paper"
         },
         {
          "font": {
           "size": 16
          },
          "showarrow": false,
          "text": "<b>South Dakota<b>",
          "x": 0.08399999999999999,
          "xanchor": "center",
          "xref": "paper",
          "y": 0.16000000000000003,
          "yanchor": "bottom",
          "yref": "paper"
         },
         {
          "font": {
           "size": 16
          },
          "showarrow": false,
          "text": "<b>Tennessee<b>",
          "x": 0.292,
          "xanchor": "center",
          "xref": "paper",
          "y": 0.16000000000000003,
          "yanchor": "bottom",
          "yref": "paper"
         },
         {
          "font": {
           "size": 16
          },
          "showarrow": false,
          "text": "<b>Texas<b>",
          "x": 0.5,
          "xanchor": "center",
          "xref": "paper",
          "y": 0.16000000000000003,
          "yanchor": "bottom",
          "yref": "paper"
         },
         {
          "font": {
           "size": 16
          },
          "showarrow": false,
          "text": "<b>Utah<b>",
          "x": 0.708,
          "xanchor": "center",
          "xref": "paper",
          "y": 0.16000000000000003,
          "yanchor": "bottom",
          "yref": "paper"
         },
         {
          "font": {
           "size": 16
          },
          "showarrow": false,
          "text": "<b>Vermont<b>",
          "x": 0.9159999999999999,
          "xanchor": "center",
          "xref": "paper",
          "y": 0.16000000000000003,
          "yanchor": "bottom",
          "yref": "paper"
         },
         {
          "font": {
           "size": 16
          },
          "showarrow": false,
          "text": "<b>Virginia<b>",
          "x": 0.08399999999999999,
          "xanchor": "center",
          "xref": "paper",
          "y": 0.05500000000000001,
          "yanchor": "bottom",
          "yref": "paper"
         },
         {
          "font": {
           "size": 16
          },
          "showarrow": false,
          "text": "<b>Washington<b>",
          "x": 0.292,
          "xanchor": "center",
          "xref": "paper",
          "y": 0.05500000000000001,
          "yanchor": "bottom",
          "yref": "paper"
         },
         {
          "font": {
           "size": 16
          },
          "showarrow": false,
          "text": "<b>West Virginia<b>",
          "x": 0.5,
          "xanchor": "center",
          "xref": "paper",
          "y": 0.05500000000000001,
          "yanchor": "bottom",
          "yref": "paper"
         },
         {
          "font": {
           "size": 16
          },
          "showarrow": false,
          "text": "<b>Wisconsin<b>",
          "x": 0.708,
          "xanchor": "center",
          "xref": "paper",
          "y": 0.05500000000000001,
          "yanchor": "bottom",
          "yref": "paper"
         },
         {
          "font": {
           "size": 16
          },
          "showarrow": false,
          "text": "<b>Wyoming<b>",
          "x": 0.9159999999999999,
          "xanchor": "center",
          "xref": "paper",
          "y": 0.05500000000000001,
          "yanchor": "bottom",
          "yref": "paper"
         }
        ],
        "height": 2400,
        "hoverlabel": {
         "bgcolor": "white",
         "font": {
          "color": "#1d2f3d",
          "family": "Open Sans",
          "size": 18
         }
        },
        "paper_bgcolor": "#d6dbdf",
        "plot_bgcolor": "#d6dbdf",
        "showlegend": false,
        "template": {
         "data": {
          "bar": [
           {
            "error_x": {
             "color": "#2a3f5f"
            },
            "error_y": {
             "color": "#2a3f5f"
            },
            "marker": {
             "line": {
              "color": "#E5ECF6",
              "width": 0.5
             },
             "pattern": {
              "fillmode": "overlay",
              "size": 10,
              "solidity": 0.2
             }
            },
            "type": "bar"
           }
          ],
          "barpolar": [
           {
            "marker": {
             "line": {
              "color": "#E5ECF6",
              "width": 0.5
             },
             "pattern": {
              "fillmode": "overlay",
              "size": 10,
              "solidity": 0.2
             }
            },
            "type": "barpolar"
           }
          ],
          "carpet": [
           {
            "aaxis": {
             "endlinecolor": "#2a3f5f",
             "gridcolor": "white",
             "linecolor": "white",
             "minorgridcolor": "white",
             "startlinecolor": "#2a3f5f"
            },
            "baxis": {
             "endlinecolor": "#2a3f5f",
             "gridcolor": "white",
             "linecolor": "white",
             "minorgridcolor": "white",
             "startlinecolor": "#2a3f5f"
            },
            "type": "carpet"
           }
          ],
          "choropleth": [
           {
            "colorbar": {
             "outlinewidth": 0,
             "ticks": ""
            },
            "type": "choropleth"
           }
          ],
          "contour": [
           {
            "colorbar": {
             "outlinewidth": 0,
             "ticks": ""
            },
            "colorscale": [
             [
              0,
              "#0d0887"
             ],
             [
              0.1111111111111111,
              "#46039f"
             ],
             [
              0.2222222222222222,
              "#7201a8"
             ],
             [
              0.3333333333333333,
              "#9c179e"
             ],
             [
              0.4444444444444444,
              "#bd3786"
             ],
             [
              0.5555555555555556,
              "#d8576b"
             ],
             [
              0.6666666666666666,
              "#ed7953"
             ],
             [
              0.7777777777777778,
              "#fb9f3a"
             ],
             [
              0.8888888888888888,
              "#fdca26"
             ],
             [
              1,
              "#f0f921"
             ]
            ],
            "type": "contour"
           }
          ],
          "contourcarpet": [
           {
            "colorbar": {
             "outlinewidth": 0,
             "ticks": ""
            },
            "type": "contourcarpet"
           }
          ],
          "heatmap": [
           {
            "colorbar": {
             "outlinewidth": 0,
             "ticks": ""
            },
            "colorscale": [
             [
              0,
              "#0d0887"
             ],
             [
              0.1111111111111111,
              "#46039f"
             ],
             [
              0.2222222222222222,
              "#7201a8"
             ],
             [
              0.3333333333333333,
              "#9c179e"
             ],
             [
              0.4444444444444444,
              "#bd3786"
             ],
             [
              0.5555555555555556,
              "#d8576b"
             ],
             [
              0.6666666666666666,
              "#ed7953"
             ],
             [
              0.7777777777777778,
              "#fb9f3a"
             ],
             [
              0.8888888888888888,
              "#fdca26"
             ],
             [
              1,
              "#f0f921"
             ]
            ],
            "type": "heatmap"
           }
          ],
          "heatmapgl": [
           {
            "colorbar": {
             "outlinewidth": 0,
             "ticks": ""
            },
            "colorscale": [
             [
              0,
              "#0d0887"
             ],
             [
              0.1111111111111111,
              "#46039f"
             ],
             [
              0.2222222222222222,
              "#7201a8"
             ],
             [
              0.3333333333333333,
              "#9c179e"
             ],
             [
              0.4444444444444444,
              "#bd3786"
             ],
             [
              0.5555555555555556,
              "#d8576b"
             ],
             [
              0.6666666666666666,
              "#ed7953"
             ],
             [
              0.7777777777777778,
              "#fb9f3a"
             ],
             [
              0.8888888888888888,
              "#fdca26"
             ],
             [
              1,
              "#f0f921"
             ]
            ],
            "type": "heatmapgl"
           }
          ],
          "histogram": [
           {
            "marker": {
             "pattern": {
              "fillmode": "overlay",
              "size": 10,
              "solidity": 0.2
             }
            },
            "type": "histogram"
           }
          ],
          "histogram2d": [
           {
            "colorbar": {
             "outlinewidth": 0,
             "ticks": ""
            },
            "colorscale": [
             [
              0,
              "#0d0887"
             ],
             [
              0.1111111111111111,
              "#46039f"
             ],
             [
              0.2222222222222222,
              "#7201a8"
             ],
             [
              0.3333333333333333,
              "#9c179e"
             ],
             [
              0.4444444444444444,
              "#bd3786"
             ],
             [
              0.5555555555555556,
              "#d8576b"
             ],
             [
              0.6666666666666666,
              "#ed7953"
             ],
             [
              0.7777777777777778,
              "#fb9f3a"
             ],
             [
              0.8888888888888888,
              "#fdca26"
             ],
             [
              1,
              "#f0f921"
             ]
            ],
            "type": "histogram2d"
           }
          ],
          "histogram2dcontour": [
           {
            "colorbar": {
             "outlinewidth": 0,
             "ticks": ""
            },
            "colorscale": [
             [
              0,
              "#0d0887"
             ],
             [
              0.1111111111111111,
              "#46039f"
             ],
             [
              0.2222222222222222,
              "#7201a8"
             ],
             [
              0.3333333333333333,
              "#9c179e"
             ],
             [
              0.4444444444444444,
              "#bd3786"
             ],
             [
              0.5555555555555556,
              "#d8576b"
             ],
             [
              0.6666666666666666,
              "#ed7953"
             ],
             [
              0.7777777777777778,
              "#fb9f3a"
             ],
             [
              0.8888888888888888,
              "#fdca26"
             ],
             [
              1,
              "#f0f921"
             ]
            ],
            "type": "histogram2dcontour"
           }
          ],
          "mesh3d": [
           {
            "colorbar": {
             "outlinewidth": 0,
             "ticks": ""
            },
            "type": "mesh3d"
           }
          ],
          "parcoords": [
           {
            "line": {
             "colorbar": {
              "outlinewidth": 0,
              "ticks": ""
             }
            },
            "type": "parcoords"
           }
          ],
          "pie": [
           {
            "automargin": true,
            "type": "pie"
           }
          ],
          "scatter": [
           {
            "marker": {
             "colorbar": {
              "outlinewidth": 0,
              "ticks": ""
             }
            },
            "type": "scatter"
           }
          ],
          "scatter3d": [
           {
            "line": {
             "colorbar": {
              "outlinewidth": 0,
              "ticks": ""
             }
            },
            "marker": {
             "colorbar": {
              "outlinewidth": 0,
              "ticks": ""
             }
            },
            "type": "scatter3d"
           }
          ],
          "scattercarpet": [
           {
            "marker": {
             "colorbar": {
              "outlinewidth": 0,
              "ticks": ""
             }
            },
            "type": "scattercarpet"
           }
          ],
          "scattergeo": [
           {
            "marker": {
             "colorbar": {
              "outlinewidth": 0,
              "ticks": ""
             }
            },
            "type": "scattergeo"
           }
          ],
          "scattergl": [
           {
            "marker": {
             "colorbar": {
              "outlinewidth": 0,
              "ticks": ""
             }
            },
            "type": "scattergl"
           }
          ],
          "scattermapbox": [
           {
            "marker": {
             "colorbar": {
              "outlinewidth": 0,
              "ticks": ""
             }
            },
            "type": "scattermapbox"
           }
          ],
          "scatterpolar": [
           {
            "marker": {
             "colorbar": {
              "outlinewidth": 0,
              "ticks": ""
             }
            },
            "type": "scatterpolar"
           }
          ],
          "scatterpolargl": [
           {
            "marker": {
             "colorbar": {
              "outlinewidth": 0,
              "ticks": ""
             }
            },
            "type": "scatterpolargl"
           }
          ],
          "scatterternary": [
           {
            "marker": {
             "colorbar": {
              "outlinewidth": 0,
              "ticks": ""
             }
            },
            "type": "scatterternary"
           }
          ],
          "surface": [
           {
            "colorbar": {
             "outlinewidth": 0,
             "ticks": ""
            },
            "colorscale": [
             [
              0,
              "#0d0887"
             ],
             [
              0.1111111111111111,
              "#46039f"
             ],
             [
              0.2222222222222222,
              "#7201a8"
             ],
             [
              0.3333333333333333,
              "#9c179e"
             ],
             [
              0.4444444444444444,
              "#bd3786"
             ],
             [
              0.5555555555555556,
              "#d8576b"
             ],
             [
              0.6666666666666666,
              "#ed7953"
             ],
             [
              0.7777777777777778,
              "#fb9f3a"
             ],
             [
              0.8888888888888888,
              "#fdca26"
             ],
             [
              1,
              "#f0f921"
             ]
            ],
            "type": "surface"
           }
          ],
          "table": [
           {
            "cells": {
             "fill": {
              "color": "#EBF0F8"
             },
             "line": {
              "color": "white"
             }
            },
            "header": {
             "fill": {
              "color": "#C8D4E3"
             },
             "line": {
              "color": "white"
             }
            },
            "type": "table"
           }
          ]
         },
         "layout": {
          "annotationdefaults": {
           "arrowcolor": "#2a3f5f",
           "arrowhead": 0,
           "arrowwidth": 1
          },
          "autotypenumbers": "strict",
          "coloraxis": {
           "colorbar": {
            "outlinewidth": 0,
            "ticks": ""
           }
          },
          "colorscale": {
           "diverging": [
            [
             0,
             "#8e0152"
            ],
            [
             0.1,
             "#c51b7d"
            ],
            [
             0.2,
             "#de77ae"
            ],
            [
             0.3,
             "#f1b6da"
            ],
            [
             0.4,
             "#fde0ef"
            ],
            [
             0.5,
             "#f7f7f7"
            ],
            [
             0.6,
             "#e6f5d0"
            ],
            [
             0.7,
             "#b8e186"
            ],
            [
             0.8,
             "#7fbc41"
            ],
            [
             0.9,
             "#4d9221"
            ],
            [
             1,
             "#276419"
            ]
           ],
           "sequential": [
            [
             0,
             "#0d0887"
            ],
            [
             0.1111111111111111,
             "#46039f"
            ],
            [
             0.2222222222222222,
             "#7201a8"
            ],
            [
             0.3333333333333333,
             "#9c179e"
            ],
            [
             0.4444444444444444,
             "#bd3786"
            ],
            [
             0.5555555555555556,
             "#d8576b"
            ],
            [
             0.6666666666666666,
             "#ed7953"
            ],
            [
             0.7777777777777778,
             "#fb9f3a"
            ],
            [
             0.8888888888888888,
             "#fdca26"
            ],
            [
             1,
             "#f0f921"
            ]
           ],
           "sequentialminus": [
            [
             0,
             "#0d0887"
            ],
            [
             0.1111111111111111,
             "#46039f"
            ],
            [
             0.2222222222222222,
             "#7201a8"
            ],
            [
             0.3333333333333333,
             "#9c179e"
            ],
            [
             0.4444444444444444,
             "#bd3786"
            ],
            [
             0.5555555555555556,
             "#d8576b"
            ],
            [
             0.6666666666666666,
             "#ed7953"
            ],
            [
             0.7777777777777778,
             "#fb9f3a"
            ],
            [
             0.8888888888888888,
             "#fdca26"
            ],
            [
             1,
             "#f0f921"
            ]
           ]
          },
          "colorway": [
           "#636efa",
           "#EF553B",
           "#00cc96",
           "#ab63fa",
           "#FFA15A",
           "#19d3f3",
           "#FF6692",
           "#B6E880",
           "#FF97FF",
           "#FECB52"
          ],
          "font": {
           "color": "#2a3f5f"
          },
          "geo": {
           "bgcolor": "white",
           "lakecolor": "white",
           "landcolor": "#E5ECF6",
           "showlakes": true,
           "showland": true,
           "subunitcolor": "white"
          },
          "hoverlabel": {
           "align": "left"
          },
          "hovermode": "closest",
          "mapbox": {
           "style": "light"
          },
          "paper_bgcolor": "white",
          "plot_bgcolor": "#E5ECF6",
          "polar": {
           "angularaxis": {
            "gridcolor": "white",
            "linecolor": "white",
            "ticks": ""
           },
           "bgcolor": "#E5ECF6",
           "radialaxis": {
            "gridcolor": "white",
            "linecolor": "white",
            "ticks": ""
           }
          },
          "scene": {
           "xaxis": {
            "backgroundcolor": "#E5ECF6",
            "gridcolor": "white",
            "gridwidth": 2,
            "linecolor": "white",
            "showbackground": true,
            "ticks": "",
            "zerolinecolor": "white"
           },
           "yaxis": {
            "backgroundcolor": "#E5ECF6",
            "gridcolor": "white",
            "gridwidth": 2,
            "linecolor": "white",
            "showbackground": true,
            "ticks": "",
            "zerolinecolor": "white"
           },
           "zaxis": {
            "backgroundcolor": "#E5ECF6",
            "gridcolor": "white",
            "gridwidth": 2,
            "linecolor": "white",
            "showbackground": true,
            "ticks": "",
            "zerolinecolor": "white"
           }
          },
          "shapedefaults": {
           "line": {
            "color": "#2a3f5f"
           }
          },
          "ternary": {
           "aaxis": {
            "gridcolor": "white",
            "linecolor": "white",
            "ticks": ""
           },
           "baxis": {
            "gridcolor": "white",
            "linecolor": "white",
            "ticks": ""
           },
           "bgcolor": "#E5ECF6",
           "caxis": {
            "gridcolor": "white",
            "linecolor": "white",
            "ticks": ""
           }
          },
          "title": {
           "x": 0.05
          },
          "xaxis": {
           "automargin": true,
           "gridcolor": "white",
           "linecolor": "white",
           "ticks": "",
           "title": {
            "standoff": 15
           },
           "zerolinecolor": "white",
           "zerolinewidth": 2
          },
          "yaxis": {
           "automargin": true,
           "gridcolor": "white",
           "linecolor": "white",
           "ticks": "",
           "title": {
            "standoff": 15
           },
           "zerolinecolor": "white",
           "zerolinewidth": 2
          }
         }
        },
        "title": {
         "font": {
          "color": "#15202b",
          "family": "Open Sans",
          "size": 32
         },
         "text": "<b>State Median Incomes by Degree (2019)<b>"
        },
        "width": 1000,
        "xaxis": {
         "anchor": "y",
         "domain": [
          0,
          0.16799999999999998
         ],
         "visible": false
        },
        "xaxis10": {
         "anchor": "y10",
         "domain": [
          0.832,
          1
         ],
         "visible": false
        },
        "xaxis11": {
         "anchor": "y11",
         "domain": [
          0,
          0.16799999999999998
         ],
         "visible": false
        },
        "xaxis12": {
         "anchor": "y12",
         "domain": [
          0.208,
          0.376
         ],
         "visible": false
        },
        "xaxis13": {
         "anchor": "y13",
         "domain": [
          0.416,
          0.584
         ],
         "visible": false
        },
        "xaxis14": {
         "anchor": "y14",
         "domain": [
          0.624,
          0.792
         ],
         "visible": false
        },
        "xaxis15": {
         "anchor": "y15",
         "domain": [
          0.832,
          1
         ],
         "visible": false
        },
        "xaxis16": {
         "anchor": "y16",
         "domain": [
          0,
          0.16799999999999998
         ],
         "visible": false
        },
        "xaxis17": {
         "anchor": "y17",
         "domain": [
          0.208,
          0.376
         ],
         "visible": false
        },
        "xaxis18": {
         "anchor": "y18",
         "domain": [
          0.416,
          0.584
         ],
         "visible": false
        },
        "xaxis19": {
         "anchor": "y19",
         "domain": [
          0.624,
          0.792
         ],
         "visible": false
        },
        "xaxis2": {
         "anchor": "y2",
         "domain": [
          0.208,
          0.376
         ],
         "visible": false
        },
        "xaxis20": {
         "anchor": "y20",
         "domain": [
          0.832,
          1
         ],
         "visible": false
        },
        "xaxis21": {
         "anchor": "y21",
         "domain": [
          0,
          0.16799999999999998
         ],
         "visible": false
        },
        "xaxis22": {
         "anchor": "y22",
         "domain": [
          0.208,
          0.376
         ],
         "visible": false
        },
        "xaxis23": {
         "anchor": "y23",
         "domain": [
          0.416,
          0.584
         ],
         "visible": false
        },
        "xaxis24": {
         "anchor": "y24",
         "domain": [
          0.624,
          0.792
         ],
         "visible": false
        },
        "xaxis25": {
         "anchor": "y25",
         "domain": [
          0.832,
          1
         ],
         "visible": false
        },
        "xaxis26": {
         "anchor": "y26",
         "domain": [
          0,
          0.16799999999999998
         ],
         "visible": false
        },
        "xaxis27": {
         "anchor": "y27",
         "domain": [
          0.208,
          0.376
         ],
         "visible": false
        },
        "xaxis28": {
         "anchor": "y28",
         "domain": [
          0.416,
          0.584
         ],
         "visible": false
        },
        "xaxis29": {
         "anchor": "y29",
         "domain": [
          0.624,
          0.792
         ],
         "visible": false
        },
        "xaxis3": {
         "anchor": "y3",
         "domain": [
          0.416,
          0.584
         ],
         "visible": false
        },
        "xaxis30": {
         "anchor": "y30",
         "domain": [
          0.832,
          1
         ],
         "visible": false
        },
        "xaxis31": {
         "anchor": "y31",
         "domain": [
          0,
          0.16799999999999998
         ],
         "visible": false
        },
        "xaxis32": {
         "anchor": "y32",
         "domain": [
          0.208,
          0.376
         ],
         "visible": false
        },
        "xaxis33": {
         "anchor": "y33",
         "domain": [
          0.416,
          0.584
         ],
         "visible": false
        },
        "xaxis34": {
         "anchor": "y34",
         "domain": [
          0.624,
          0.792
         ],
         "visible": false
        },
        "xaxis35": {
         "anchor": "y35",
         "domain": [
          0.832,
          1
         ],
         "visible": false
        },
        "xaxis36": {
         "anchor": "y36",
         "domain": [
          0,
          0.16799999999999998
         ],
         "visible": false
        },
        "xaxis37": {
         "anchor": "y37",
         "domain": [
          0.208,
          0.376
         ],
         "visible": false
        },
        "xaxis38": {
         "anchor": "y38",
         "domain": [
          0.416,
          0.584
         ],
         "visible": false
        },
        "xaxis39": {
         "anchor": "y39",
         "domain": [
          0.624,
          0.792
         ],
         "visible": false
        },
        "xaxis4": {
         "anchor": "y4",
         "domain": [
          0.624,
          0.792
         ],
         "visible": false
        },
        "xaxis40": {
         "anchor": "y40",
         "domain": [
          0.832,
          1
         ],
         "visible": false
        },
        "xaxis41": {
         "anchor": "y41",
         "domain": [
          0,
          0.16799999999999998
         ],
         "visible": false
        },
        "xaxis42": {
         "anchor": "y42",
         "domain": [
          0.208,
          0.376
         ],
         "visible": false
        },
        "xaxis43": {
         "anchor": "y43",
         "domain": [
          0.416,
          0.584
         ],
         "visible": false
        },
        "xaxis44": {
         "anchor": "y44",
         "domain": [
          0.624,
          0.792
         ],
         "visible": false
        },
        "xaxis45": {
         "anchor": "y45",
         "domain": [
          0.832,
          1
         ],
         "visible": false
        },
        "xaxis46": {
         "anchor": "y46",
         "domain": [
          0,
          0.16799999999999998
         ],
         "visible": false
        },
        "xaxis47": {
         "anchor": "y47",
         "domain": [
          0.208,
          0.376
         ],
         "visible": false
        },
        "xaxis48": {
         "anchor": "y48",
         "domain": [
          0.416,
          0.584
         ],
         "visible": false
        },
        "xaxis49": {
         "anchor": "y49",
         "domain": [
          0.624,
          0.792
         ],
         "visible": false
        },
        "xaxis5": {
         "anchor": "y5",
         "domain": [
          0.832,
          1
         ],
         "visible": false
        },
        "xaxis50": {
         "anchor": "y50",
         "domain": [
          0.832,
          1
         ],
         "visible": false
        },
        "xaxis6": {
         "anchor": "y6",
         "domain": [
          0,
          0.16799999999999998
         ],
         "visible": false
        },
        "xaxis7": {
         "anchor": "y7",
         "domain": [
          0.208,
          0.376
         ],
         "visible": false
        },
        "xaxis8": {
         "anchor": "y8",
         "domain": [
          0.416,
          0.584
         ],
         "visible": false
        },
        "xaxis9": {
         "anchor": "y9",
         "domain": [
          0.624,
          0.792
         ],
         "visible": false
        },
        "yaxis": {
         "anchor": "x",
         "domain": [
          0.9450000000000001,
          1
         ],
         "visible": false
        },
        "yaxis10": {
         "anchor": "x10",
         "domain": [
          0.8400000000000001,
          0.8950000000000001
         ],
         "matches": "y6",
         "showticklabels": false,
         "visible": false
        },
        "yaxis11": {
         "anchor": "x11",
         "domain": [
          0.7350000000000001,
          0.7900000000000001
         ],
         "visible": false
        },
        "yaxis12": {
         "anchor": "x12",
         "domain": [
          0.7350000000000001,
          0.7900000000000001
         ],
         "matches": "y11",
         "showticklabels": false,
         "visible": false
        },
        "yaxis13": {
         "anchor": "x13",
         "domain": [
          0.7350000000000001,
          0.7900000000000001
         ],
         "matches": "y11",
         "showticklabels": false,
         "visible": false
        },
        "yaxis14": {
         "anchor": "x14",
         "domain": [
          0.7350000000000001,
          0.7900000000000001
         ],
         "matches": "y11",
         "showticklabels": false,
         "visible": false
        },
        "yaxis15": {
         "anchor": "x15",
         "domain": [
          0.7350000000000001,
          0.7900000000000001
         ],
         "matches": "y11",
         "showticklabels": false,
         "visible": false
        },
        "yaxis16": {
         "anchor": "x16",
         "domain": [
          0.6300000000000001,
          0.6850000000000002
         ],
         "visible": false
        },
        "yaxis17": {
         "anchor": "x17",
         "domain": [
          0.6300000000000001,
          0.6850000000000002
         ],
         "matches": "y16",
         "showticklabels": false,
         "visible": false
        },
        "yaxis18": {
         "anchor": "x18",
         "domain": [
          0.6300000000000001,
          0.6850000000000002
         ],
         "matches": "y16",
         "showticklabels": false,
         "visible": false
        },
        "yaxis19": {
         "anchor": "x19",
         "domain": [
          0.6300000000000001,
          0.6850000000000002
         ],
         "matches": "y16",
         "showticklabels": false,
         "visible": false
        },
        "yaxis2": {
         "anchor": "x2",
         "domain": [
          0.9450000000000001,
          1
         ],
         "matches": "y",
         "showticklabels": false,
         "visible": false
        },
        "yaxis20": {
         "anchor": "x20",
         "domain": [
          0.6300000000000001,
          0.6850000000000002
         ],
         "matches": "y16",
         "showticklabels": false,
         "visible": false
        },
        "yaxis21": {
         "anchor": "x21",
         "domain": [
          0.525,
          0.5800000000000001
         ],
         "visible": false
        },
        "yaxis22": {
         "anchor": "x22",
         "domain": [
          0.525,
          0.5800000000000001
         ],
         "matches": "y21",
         "showticklabels": false,
         "visible": false
        },
        "yaxis23": {
         "anchor": "x23",
         "domain": [
          0.525,
          0.5800000000000001
         ],
         "matches": "y21",
         "showticklabels": false,
         "visible": false
        },
        "yaxis24": {
         "anchor": "x24",
         "domain": [
          0.525,
          0.5800000000000001
         ],
         "matches": "y21",
         "showticklabels": false,
         "visible": false
        },
        "yaxis25": {
         "anchor": "x25",
         "domain": [
          0.525,
          0.5800000000000001
         ],
         "matches": "y21",
         "showticklabels": false,
         "visible": false
        },
        "yaxis26": {
         "anchor": "x26",
         "domain": [
          0.42000000000000004,
          0.47500000000000003
         ],
         "visible": false
        },
        "yaxis27": {
         "anchor": "x27",
         "domain": [
          0.42000000000000004,
          0.47500000000000003
         ],
         "matches": "y26",
         "showticklabels": false,
         "visible": false
        },
        "yaxis28": {
         "anchor": "x28",
         "domain": [
          0.42000000000000004,
          0.47500000000000003
         ],
         "matches": "y26",
         "showticklabels": false,
         "visible": false
        },
        "yaxis29": {
         "anchor": "x29",
         "domain": [
          0.42000000000000004,
          0.47500000000000003
         ],
         "matches": "y26",
         "showticklabels": false,
         "visible": false
        },
        "yaxis3": {
         "anchor": "x3",
         "domain": [
          0.9450000000000001,
          1
         ],
         "matches": "y",
         "showticklabels": false,
         "visible": false
        },
        "yaxis30": {
         "anchor": "x30",
         "domain": [
          0.42000000000000004,
          0.47500000000000003
         ],
         "matches": "y26",
         "showticklabels": false,
         "visible": false
        },
        "yaxis31": {
         "anchor": "x31",
         "domain": [
          0.31500000000000006,
          0.37000000000000005
         ],
         "visible": false
        },
        "yaxis32": {
         "anchor": "x32",
         "domain": [
          0.31500000000000006,
          0.37000000000000005
         ],
         "matches": "y31",
         "showticklabels": false,
         "visible": false
        },
        "yaxis33": {
         "anchor": "x33",
         "domain": [
          0.31500000000000006,
          0.37000000000000005
         ],
         "matches": "y31",
         "showticklabels": false,
         "visible": false
        },
        "yaxis34": {
         "anchor": "x34",
         "domain": [
          0.31500000000000006,
          0.37000000000000005
         ],
         "matches": "y31",
         "showticklabels": false,
         "visible": false
        },
        "yaxis35": {
         "anchor": "x35",
         "domain": [
          0.31500000000000006,
          0.37000000000000005
         ],
         "matches": "y31",
         "showticklabels": false,
         "visible": false
        },
        "yaxis36": {
         "anchor": "x36",
         "domain": [
          0.21000000000000002,
          0.265
         ],
         "visible": false
        },
        "yaxis37": {
         "anchor": "x37",
         "domain": [
          0.21000000000000002,
          0.265
         ],
         "matches": "y36",
         "showticklabels": false,
         "visible": false
        },
        "yaxis38": {
         "anchor": "x38",
         "domain": [
          0.21000000000000002,
          0.265
         ],
         "matches": "y36",
         "showticklabels": false,
         "visible": false
        },
        "yaxis39": {
         "anchor": "x39",
         "domain": [
          0.21000000000000002,
          0.265
         ],
         "matches": "y36",
         "showticklabels": false,
         "visible": false
        },
        "yaxis4": {
         "anchor": "x4",
         "domain": [
          0.9450000000000001,
          1
         ],
         "matches": "y",
         "showticklabels": false,
         "visible": false
        },
        "yaxis40": {
         "anchor": "x40",
         "domain": [
          0.21000000000000002,
          0.265
         ],
         "matches": "y36",
         "showticklabels": false,
         "visible": false
        },
        "yaxis41": {
         "anchor": "x41",
         "domain": [
          0.10500000000000001,
          0.16000000000000003
         ],
         "visible": false
        },
        "yaxis42": {
         "anchor": "x42",
         "domain": [
          0.10500000000000001,
          0.16000000000000003
         ],
         "matches": "y41",
         "showticklabels": false,
         "visible": false
        },
        "yaxis43": {
         "anchor": "x43",
         "domain": [
          0.10500000000000001,
          0.16000000000000003
         ],
         "matches": "y41",
         "showticklabels": false,
         "visible": false
        },
        "yaxis44": {
         "anchor": "x44",
         "domain": [
          0.10500000000000001,
          0.16000000000000003
         ],
         "matches": "y41",
         "showticklabels": false,
         "visible": false
        },
        "yaxis45": {
         "anchor": "x45",
         "domain": [
          0.10500000000000001,
          0.16000000000000003
         ],
         "matches": "y41",
         "showticklabels": false,
         "visible": false
        },
        "yaxis46": {
         "anchor": "x46",
         "domain": [
          0,
          0.05500000000000001
         ],
         "visible": false
        },
        "yaxis47": {
         "anchor": "x47",
         "domain": [
          0,
          0.05500000000000001
         ],
         "matches": "y46",
         "showticklabels": false,
         "visible": false
        },
        "yaxis48": {
         "anchor": "x48",
         "domain": [
          0,
          0.05500000000000001
         ],
         "matches": "y46",
         "showticklabels": false,
         "visible": false
        },
        "yaxis49": {
         "anchor": "x49",
         "domain": [
          0,
          0.05500000000000001
         ],
         "matches": "y46",
         "showticklabels": false,
         "visible": false
        },
        "yaxis5": {
         "anchor": "x5",
         "domain": [
          0.9450000000000001,
          1
         ],
         "matches": "y",
         "showticklabels": false,
         "visible": false
        },
        "yaxis50": {
         "anchor": "x50",
         "domain": [
          0,
          0.05500000000000001
         ],
         "matches": "y46",
         "showticklabels": false,
         "visible": false
        },
        "yaxis6": {
         "anchor": "x6",
         "domain": [
          0.8400000000000001,
          0.8950000000000001
         ],
         "visible": false
        },
        "yaxis7": {
         "anchor": "x7",
         "domain": [
          0.8400000000000001,
          0.8950000000000001
         ],
         "matches": "y6",
         "showticklabels": false,
         "visible": false
        },
        "yaxis8": {
         "anchor": "x8",
         "domain": [
          0.8400000000000001,
          0.8950000000000001
         ],
         "matches": "y6",
         "showticklabels": false,
         "visible": false
        },
        "yaxis9": {
         "anchor": "x9",
         "domain": [
          0.8400000000000001,
          0.8950000000000001
         ],
         "matches": "y6",
         "showticklabels": false,
         "visible": false
        }
       }
      },
      "text/html": [
       "<div>                            <div id=\"1354d2b9-ba16-48f9-842d-22d17b4a6d73\" class=\"plotly-graph-div\" style=\"height:2400px; width:1000px;\"></div>            <script type=\"text/javascript\">                require([\"plotly\"], function(Plotly) {                    window.PLOTLYENV=window.PLOTLYENV || {};                                    if (document.getElementById(\"1354d2b9-ba16-48f9-842d-22d17b4a6d73\")) {                    Plotly.newPlot(                        \"1354d2b9-ba16-48f9-842d-22d17b4a6d73\",                        [{\"hovertemplate\":\"%{y:$,}<extra></extra>\",\"marker\":{\"color\":[\"#79c2c5\",\"#3c9fbc\",\"#1c7aac\",\"#00569b\",\"#0c3575\",\"#101650\"]},\"type\":\"bar\",\"x\":[\"Median\",\"Did Not Graduate HS\",\"HS Graduate\",\"Some College\",\"Bachelor's Degree\",\"Graduate / Professional Degree\"],\"xaxis\":\"x\",\"y\":[33225,22474,29147,32884,45397,55705],\"yaxis\":\"y\"},{\"hovertemplate\":\"%{y:$,}<extra></extra>\",\"marker\":{\"color\":[\"#79c2c5\",\"#3c9fbc\",\"#1c7aac\",\"#00569b\",\"#0c3575\",\"#101650\"]},\"type\":\"bar\",\"x\":[\"Median\",\"Did Not Graduate HS\",\"HS Graduate\",\"Some College\",\"Bachelor's Degree\",\"Graduate / Professional Degree\"],\"xaxis\":\"x2\",\"y\":[40943,22759,32188,43973,55605,71704],\"yaxis\":\"y2\"},{\"hovertemplate\":\"%{y:$,}<extra></extra>\",\"marker\":{\"color\":[\"#79c2c5\",\"#3c9fbc\",\"#1c7aac\",\"#00569b\",\"#0c3575\",\"#101650\"]},\"type\":\"bar\",\"x\":[\"Median\",\"Did Not Graduate HS\",\"HS Graduate\",\"Some College\",\"Bachelor's Degree\",\"Graduate / Professional Degree\"],\"xaxis\":\"x3\",\"y\":[33428,21939,29111,33344,44925,54105],\"yaxis\":\"y3\"},{\"hovertemplate\":\"%{y:$,}<extra></extra>\",\"marker\":{\"color\":[\"#79c2c5\",\"#3c9fbc\",\"#1c7aac\",\"#00569b\",\"#0c3575\",\"#101650\"]},\"type\":\"bar\",\"x\":[\"Median\",\"Did Not Graduate HS\",\"HS Graduate\",\"Some College\",\"Bachelor's Degree\",\"Graduate / Professional Degree\"],\"xaxis\":\"x4\",\"y\":[31801,23770,28295,30635,44001,54209],\"yaxis\":\"y4\"},{\"hovertemplate\":\"%{y:$,}<extra></extra>\",\"marker\":{\"color\":[\"#79c2c5\",\"#3c9fbc\",\"#1c7aac\",\"#00569b\",\"#0c3575\",\"#101650\"]},\"type\":\"bar\",\"x\":[\"Median\",\"Did Not Graduate HS\",\"HS Graduate\",\"Some College\",\"Bachelor's Degree\",\"Graduate / Professional Degree\"],\"xaxis\":\"x5\",\"y\":[40019,24085,31918,38120,56615,75375],\"yaxis\":\"y5\"},{\"hovertemplate\":\"%{y:$,}<extra></extra>\",\"marker\":{\"color\":[\"#79c2c5\",\"#3c9fbc\",\"#1c7aac\",\"#00569b\",\"#0c3575\",\"#101650\"]},\"type\":\"bar\",\"x\":[\"Median\",\"Did Not Graduate HS\",\"HS Graduate\",\"Some College\",\"Bachelor's Degree\",\"Graduate / Professional Degree\"],\"xaxis\":\"x6\",\"y\":[37843,27956,32447,34723,45357,54928],\"yaxis\":\"y6\"},{\"hovertemplate\":\"%{y:$,}<extra></extra>\",\"marker\":{\"color\":[\"#79c2c5\",\"#3c9fbc\",\"#1c7aac\",\"#00569b\",\"#0c3575\",\"#101650\"]},\"type\":\"bar\",\"x\":[\"Median\",\"Did Not Graduate HS\",\"HS Graduate\",\"Some College\",\"Bachelor's Degree\",\"Graduate / Professional Degree\"],\"xaxis\":\"x7\",\"y\":[50370,26030,38874,44426,63285,81581],\"yaxis\":\"y7\"},{\"hovertemplate\":\"%{y:$,}<extra></extra>\",\"marker\":{\"color\":[\"#79c2c5\",\"#3c9fbc\",\"#1c7aac\",\"#00569b\",\"#0c3575\",\"#101650\"]},\"type\":\"bar\",\"x\":[\"Median\",\"Did Not Graduate HS\",\"HS Graduate\",\"Some College\",\"Bachelor's Degree\",\"Graduate / Professional Degree\"],\"xaxis\":\"x8\",\"y\":[41124,27027,32453,37939,54046,69162],\"yaxis\":\"y8\"},{\"hovertemplate\":\"%{y:$,}<extra></extra>\",\"marker\":{\"color\":[\"#79c2c5\",\"#3c9fbc\",\"#1c7aac\",\"#00569b\",\"#0c3575\",\"#101650\"]},\"type\":\"bar\",\"x\":[\"Median\",\"Did Not Graduate HS\",\"HS Graduate\",\"Some College\",\"Bachelor's Degree\",\"Graduate / Professional Degree\"],\"xaxis\":\"x9\",\"y\":[33151,22374,28188,32715,44193,57066],\"yaxis\":\"y9\"},{\"hovertemplate\":\"%{y:$,}<extra></extra>\",\"marker\":{\"color\":[\"#79c2c5\",\"#3c9fbc\",\"#1c7aac\",\"#00569b\",\"#0c3575\",\"#101650\"]},\"type\":\"bar\",\"x\":[\"Median\",\"Did Not Graduate HS\",\"HS Graduate\",\"Some College\",\"Bachelor's Degree\",\"Graduate / Professional Degree\"],\"xaxis\":\"x10\",\"y\":[33836,23214,29450,33549,47105,57946],\"yaxis\":\"y10\"},{\"hovertemplate\":\"%{y:$,}<extra></extra>\",\"marker\":{\"color\":[\"#79c2c5\",\"#3c9fbc\",\"#1c7aac\",\"#00569b\",\"#0c3575\",\"#101650\"]},\"type\":\"bar\",\"x\":[\"Median\",\"Did Not Graduate HS\",\"HS Graduate\",\"Some College\",\"Bachelor's Degree\",\"Graduate / Professional Degree\"],\"xaxis\":\"x11\",\"y\":[40472,28792,34474,39181,48382,62564],\"yaxis\":\"y11\"},{\"hovertemplate\":\"%{y:$,}<extra></extra>\",\"marker\":{\"color\":[\"#79c2c5\",\"#3c9fbc\",\"#1c7aac\",\"#00569b\",\"#0c3575\",\"#101650\"]},\"type\":\"bar\",\"x\":[\"Median\",\"Did Not Graduate HS\",\"HS Graduate\",\"Some College\",\"Bachelor's Degree\",\"Graduate / Professional Degree\"],\"xaxis\":\"x12\",\"y\":[32462,24879,28925,31648,40724,54906],\"yaxis\":\"y12\"},{\"hovertemplate\":\"%{y:$,}<extra></extra>\",\"marker\":{\"color\":[\"#79c2c5\",\"#3c9fbc\",\"#1c7aac\",\"#00569b\",\"#0c3575\",\"#101650\"]},\"type\":\"bar\",\"x\":[\"Median\",\"Did Not Graduate HS\",\"HS Graduate\",\"Some College\",\"Bachelor's Degree\",\"Graduate / Professional Degree\"],\"xaxis\":\"x13\",\"y\":[38000,22866,31876,36372,48982,61167],\"yaxis\":\"y13\"},{\"hovertemplate\":\"%{y:$,}<extra></extra>\",\"marker\":{\"color\":[\"#79c2c5\",\"#3c9fbc\",\"#1c7aac\",\"#00569b\",\"#0c3575\",\"#101650\"]},\"type\":\"bar\",\"x\":[\"Median\",\"Did Not Graduate HS\",\"HS Graduate\",\"Some College\",\"Bachelor's Degree\",\"Graduate / Professional Degree\"],\"xaxis\":\"x14\",\"y\":[37544,25996,33119,36634,47683,59846],\"yaxis\":\"y14\"},{\"hovertemplate\":\"%{y:$,}<extra></extra>\",\"marker\":{\"color\":[\"#79c2c5\",\"#3c9fbc\",\"#1c7aac\",\"#00569b\",\"#0c3575\",\"#101650\"]},\"type\":\"bar\",\"x\":[\"Median\",\"Did Not Graduate HS\",\"HS Graduate\",\"Some College\",\"Bachelor's Degree\",\"Graduate / Professional Degree\"],\"xaxis\":\"x15\",\"y\":[38252,28006,33089,36802,47603,61689],\"yaxis\":\"y15\"},{\"hovertemplate\":\"%{y:$,}<extra></extra>\",\"marker\":{\"color\":[\"#79c2c5\",\"#3c9fbc\",\"#1c7aac\",\"#00569b\",\"#0c3575\",\"#101650\"]},\"type\":\"bar\",\"x\":[\"Median\",\"Did Not Graduate HS\",\"HS Graduate\",\"Some College\",\"Bachelor's Degree\",\"Graduate / Professional Degree\"],\"xaxis\":\"x16\",\"y\":[35319,26134,30238,34367,43051,52628],\"yaxis\":\"y16\"},{\"hovertemplate\":\"%{y:$,}<extra></extra>\",\"marker\":{\"color\":[\"#79c2c5\",\"#3c9fbc\",\"#1c7aac\",\"#00569b\",\"#0c3575\",\"#101650\"]},\"type\":\"bar\",\"x\":[\"Median\",\"Did Not Graduate HS\",\"HS Graduate\",\"Some College\",\"Bachelor's Degree\",\"Graduate / Professional Degree\"],\"xaxis\":\"x17\",\"y\":[33736,22905,29794,32493,45499,54720],\"yaxis\":\"y17\"},{\"hovertemplate\":\"%{y:$,}<extra></extra>\",\"marker\":{\"color\":[\"#79c2c5\",\"#3c9fbc\",\"#1c7aac\",\"#00569b\",\"#0c3575\",\"#101650\"]},\"type\":\"bar\",\"x\":[\"Median\",\"Did Not Graduate HS\",\"HS Graduate\",\"Some College\",\"Bachelor's Degree\",\"Graduate / Professional Degree\"],\"xaxis\":\"x18\",\"y\":[34687,22016,30433,33796,47289,57198],\"yaxis\":\"y18\"},{\"hovertemplate\":\"%{y:$,}<extra></extra>\",\"marker\":{\"color\":[\"#79c2c5\",\"#3c9fbc\",\"#1c7aac\",\"#00569b\",\"#0c3575\",\"#101650\"]},\"type\":\"bar\",\"x\":[\"Median\",\"Did Not Graduate HS\",\"HS Graduate\",\"Some College\",\"Bachelor's Degree\",\"Graduate / Professional Degree\"],\"xaxis\":\"x19\",\"y\":[35016,22018,29441,33959,42898,55313],\"yaxis\":\"y19\"},{\"hovertemplate\":\"%{y:$,}<extra></extra>\",\"marker\":{\"color\":[\"#79c2c5\",\"#3c9fbc\",\"#1c7aac\",\"#00569b\",\"#0c3575\",\"#101650\"]},\"type\":\"bar\",\"x\":[\"Median\",\"Did Not Graduate HS\",\"HS Graduate\",\"Some College\",\"Bachelor's Degree\",\"Graduate / Professional Degree\"],\"xaxis\":\"x20\",\"y\":[47902,26933,36240,43319,60568,77737],\"yaxis\":\"y20\"},{\"hovertemplate\":\"%{y:$,}<extra></extra>\",\"marker\":{\"color\":[\"#79c2c5\",\"#3c9fbc\",\"#1c7aac\",\"#00569b\",\"#0c3575\",\"#101650\"]},\"type\":\"bar\",\"x\":[\"Median\",\"Did Not Graduate HS\",\"HS Graduate\",\"Some College\",\"Bachelor's Degree\",\"Graduate / Professional Degree\"],\"xaxis\":\"x21\",\"y\":[48467,27745,36950,41932,57758,72572],\"yaxis\":\"y21\"},{\"hovertemplate\":\"%{y:$,}<extra></extra>\",\"marker\":{\"color\":[\"#79c2c5\",\"#3c9fbc\",\"#1c7aac\",\"#00569b\",\"#0c3575\",\"#101650\"]},\"type\":\"bar\",\"x\":[\"Median\",\"Did Not Graduate HS\",\"HS Graduate\",\"Some College\",\"Bachelor's Degree\",\"Graduate / Professional Degree\"],\"xaxis\":\"x22\",\"y\":[33943,21519,28365,32727,46811,60820],\"yaxis\":\"y22\"},{\"hovertemplate\":\"%{y:$,}<extra></extra>\",\"marker\":{\"color\":[\"#79c2c5\",\"#3c9fbc\",\"#1c7aac\",\"#00569b\",\"#0c3575\",\"#101650\"]},\"type\":\"bar\",\"x\":[\"Median\",\"Did Not Graduate HS\",\"HS Graduate\",\"Some College\",\"Bachelor's Degree\",\"Graduate / Professional Degree\"],\"xaxis\":\"x23\",\"y\":[39698,26337,32899,38612,50226,63047],\"yaxis\":\"y23\"},{\"hovertemplate\":\"%{y:$,}<extra></extra>\",\"marker\":{\"color\":[\"#79c2c5\",\"#3c9fbc\",\"#1c7aac\",\"#00569b\",\"#0c3575\",\"#101650\"]},\"type\":\"bar\",\"x\":[\"Median\",\"Did Not Graduate HS\",\"HS Graduate\",\"Some College\",\"Bachelor's Degree\",\"Graduate / Professional Degree\"],\"xaxis\":\"x24\",\"y\":[31068,23340,26876,30259,40489,51738],\"yaxis\":\"y24\"},{\"hovertemplate\":\"%{y:$,}<extra></extra>\",\"marker\":{\"color\":[\"#79c2c5\",\"#3c9fbc\",\"#1c7aac\",\"#00569b\",\"#0c3575\",\"#101650\"]},\"type\":\"bar\",\"x\":[\"Median\",\"Did Not Graduate HS\",\"HS Graduate\",\"Some College\",\"Bachelor's Degree\",\"Graduate / Professional Degree\"],\"xaxis\":\"x25\",\"y\":[32872,23149,29361,31810,41825,49986],\"yaxis\":\"y25\"},{\"hovertemplate\":\"%{y:$,}<extra></extra>\",\"marker\":{\"color\":[\"#79c2c5\",\"#3c9fbc\",\"#1c7aac\",\"#00569b\",\"#0c3575\",\"#101650\"]},\"type\":\"bar\",\"x\":[\"Median\",\"Did Not Graduate HS\",\"HS Graduate\",\"Some College\",\"Bachelor's Degree\",\"Graduate / Professional Degree\"],\"xaxis\":\"x26\",\"y\":[33111,24584,28386,31269,40059,55070],\"yaxis\":\"y26\"},{\"hovertemplate\":\"%{y:$,}<extra></extra>\",\"marker\":{\"color\":[\"#79c2c5\",\"#3c9fbc\",\"#1c7aac\",\"#00569b\",\"#0c3575\",\"#101650\"]},\"type\":\"bar\",\"x\":[\"Median\",\"Did Not Graduate HS\",\"HS Graduate\",\"Some College\",\"Bachelor's Degree\",\"Graduate / Professional Degree\"],\"xaxis\":\"x27\",\"y\":[36150,27288,31390,34933,43660,58354],\"yaxis\":\"y27\"},{\"hovertemplate\":\"%{y:$,}<extra></extra>\",\"marker\":{\"color\":[\"#79c2c5\",\"#3c9fbc\",\"#1c7aac\",\"#00569b\",\"#0c3575\",\"#101650\"]},\"type\":\"bar\",\"x\":[\"Median\",\"Did Not Graduate HS\",\"HS Graduate\",\"Some College\",\"Bachelor's Degree\",\"Graduate / Professional Degree\"],\"xaxis\":\"x28\",\"y\":[38553,33529,34927,38043,47823,67272],\"yaxis\":\"y28\"},{\"hovertemplate\":\"%{y:$,}<extra></extra>\",\"marker\":{\"color\":[\"#79c2c5\",\"#3c9fbc\",\"#1c7aac\",\"#00569b\",\"#0c3575\",\"#101650\"]},\"type\":\"bar\",\"x\":[\"Median\",\"Did Not Graduate HS\",\"HS Graduate\",\"Some College\",\"Bachelor's Degree\",\"Graduate / Professional Degree\"],\"xaxis\":\"x29\",\"y\":[42304,26732,34670,39477,51329,66175],\"yaxis\":\"y29\"},{\"hovertemplate\":\"%{y:$,}<extra></extra>\",\"marker\":{\"color\":[\"#79c2c5\",\"#3c9fbc\",\"#1c7aac\",\"#00569b\",\"#0c3575\",\"#101650\"]},\"type\":\"bar\",\"x\":[\"Median\",\"Did Not Graduate HS\",\"HS Graduate\",\"Some College\",\"Bachelor's Degree\",\"Graduate / Professional Degree\"],\"xaxis\":\"x30\",\"y\":[50276,25632,35706,43648,65228,86787],\"yaxis\":\"y30\"},{\"hovertemplate\":\"%{y:$,}<extra></extra>\",\"marker\":{\"color\":[\"#79c2c5\",\"#3c9fbc\",\"#1c7aac\",\"#00569b\",\"#0c3575\",\"#101650\"]},\"type\":\"bar\",\"x\":[\"Median\",\"Did Not Graduate HS\",\"HS Graduate\",\"Some College\",\"Bachelor's Degree\",\"Graduate / Professional Degree\"],\"xaxis\":\"x31\",\"y\":[32369,22794,26980,31561,42646,56949],\"yaxis\":\"y31\"},{\"hovertemplate\":\"%{y:$,}<extra></extra>\",\"marker\":{\"color\":[\"#79c2c5\",\"#3c9fbc\",\"#1c7aac\",\"#00569b\",\"#0c3575\",\"#101650\"]},\"type\":\"bar\",\"x\":[\"Median\",\"Did Not Graduate HS\",\"HS Graduate\",\"Some College\",\"Bachelor's Degree\",\"Graduate / Professional Degree\"],\"xaxis\":\"x32\",\"y\":[41235,24555,32522,38517,51861,66535],\"yaxis\":\"y32\"},{\"hovertemplate\":\"%{y:$,}<extra></extra>\",\"marker\":{\"color\":[\"#79c2c5\",\"#3c9fbc\",\"#1c7aac\",\"#00569b\",\"#0c3575\",\"#101650\"]},\"type\":\"bar\",\"x\":[\"Median\",\"Did Not Graduate HS\",\"HS Graduate\",\"Some College\",\"Bachelor's Degree\",\"Graduate / Professional Degree\"],\"xaxis\":\"x33\",\"y\":[33815,22117,28603,33010,45322,54865],\"yaxis\":\"y33\"},{\"hovertemplate\":\"%{y:$,}<extra></extra>\",\"marker\":{\"color\":[\"#79c2c5\",\"#3c9fbc\",\"#1c7aac\",\"#00569b\",\"#0c3575\",\"#101650\"]},\"type\":\"bar\",\"x\":[\"Median\",\"Did Not Graduate HS\",\"HS Graduate\",\"Some College\",\"Bachelor's Degree\",\"Graduate / Professional Degree\"],\"xaxis\":\"x34\",\"y\":[41605,30885,35870,41350,48487,57253],\"yaxis\":\"y34\"},{\"hovertemplate\":\"%{y:$,}<extra></extra>\",\"marker\":{\"color\":[\"#79c2c5\",\"#3c9fbc\",\"#1c7aac\",\"#00569b\",\"#0c3575\",\"#101650\"]},\"type\":\"bar\",\"x\":[\"Median\",\"Did Not Graduate HS\",\"HS Graduate\",\"Some College\",\"Bachelor's Degree\",\"Graduate / Professional Degree\"],\"xaxis\":\"x35\",\"y\":[37614,23894,31842,36252,50103,63041],\"yaxis\":\"y35\"},{\"hovertemplate\":\"%{y:$,}<extra></extra>\",\"marker\":{\"color\":[\"#79c2c5\",\"#3c9fbc\",\"#1c7aac\",\"#00569b\",\"#0c3575\",\"#101650\"]},\"type\":\"bar\",\"x\":[\"Median\",\"Did Not Graduate HS\",\"HS Graduate\",\"Some College\",\"Bachelor's Degree\",\"Graduate / Professional Degree\"],\"xaxis\":\"x36\",\"y\":[33885,24738,29607,33086,43637,53319],\"yaxis\":\"y36\"},{\"hovertemplate\":\"%{y:$,}<extra></extra>\",\"marker\":{\"color\":[\"#79c2c5\",\"#3c9fbc\",\"#1c7aac\",\"#00569b\",\"#0c3575\",\"#101650\"]},\"type\":\"bar\",\"x\":[\"Median\",\"Did Not Graduate HS\",\"HS Graduate\",\"Some College\",\"Bachelor's Degree\",\"Graduate / Professional Degree\"],\"xaxis\":\"x37\",\"y\":[34860,25856,30427,33301,46206,58893],\"yaxis\":\"y37\"},{\"hovertemplate\":\"%{y:$,}<extra></extra>\",\"marker\":{\"color\":[\"#79c2c5\",\"#3c9fbc\",\"#1c7aac\",\"#00569b\",\"#0c3575\",\"#101650\"]},\"type\":\"bar\",\"x\":[\"Median\",\"Did Not Graduate HS\",\"HS Graduate\",\"Some College\",\"Bachelor's Degree\",\"Graduate / Professional Degree\"],\"xaxis\":\"x38\",\"y\":[38310,25502,31900,36783,49801,65229],\"yaxis\":\"y38\"},{\"hovertemplate\":\"%{y:$,}<extra></extra>\",\"marker\":{\"color\":[\"#79c2c5\",\"#3c9fbc\",\"#1c7aac\",\"#00569b\",\"#0c3575\",\"#101650\"]},\"type\":\"bar\",\"x\":[\"Median\",\"Did Not Graduate HS\",\"HS Graduate\",\"Some College\",\"Bachelor's Degree\",\"Graduate / Professional Degree\"],\"xaxis\":\"x39\",\"y\":[48836,29479,36466,41397,58117,81086],\"yaxis\":\"y39\"},{\"hovertemplate\":\"%{y:$,}<extra></extra>\",\"marker\":{\"color\":[\"#79c2c5\",\"#3c9fbc\",\"#1c7aac\",\"#00569b\",\"#0c3575\",\"#101650\"]},\"type\":\"bar\",\"x\":[\"Median\",\"Did Not Graduate HS\",\"HS Graduate\",\"Some College\",\"Bachelor's Degree\",\"Graduate / Professional Degree\"],\"xaxis\":\"x40\",\"y\":[32733,21270,28303,32221,43625,53752],\"yaxis\":\"y40\"},{\"hovertemplate\":\"%{y:$,}<extra></extra>\",\"marker\":{\"color\":[\"#79c2c5\",\"#3c9fbc\",\"#1c7aac\",\"#00569b\",\"#0c3575\",\"#101650\"]},\"type\":\"bar\",\"x\":[\"Median\",\"Did Not Graduate HS\",\"HS Graduate\",\"Some College\",\"Bachelor's Degree\",\"Graduate / Professional Degree\"],\"xaxis\":\"x41\",\"y\":[35866,26150,31190,34207,44687,53495],\"yaxis\":\"y41\"},{\"hovertemplate\":\"%{y:$,}<extra></extra>\",\"marker\":{\"color\":[\"#79c2c5\",\"#3c9fbc\",\"#1c7aac\",\"#00569b\",\"#0c3575\",\"#101650\"]},\"type\":\"bar\",\"x\":[\"Median\",\"Did Not Graduate HS\",\"HS Graduate\",\"Some College\",\"Bachelor's Degree\",\"Graduate / Professional Degree\"],\"xaxis\":\"x42\",\"y\":[33294,22738,29290,33291,45150,55118],\"yaxis\":\"y42\"},{\"hovertemplate\":\"%{y:$,}<extra></extra>\",\"marker\":{\"color\":[\"#79c2c5\",\"#3c9fbc\",\"#1c7aac\",\"#00569b\",\"#0c3575\",\"#101650\"]},\"type\":\"bar\",\"x\":[\"Median\",\"Did Not Graduate HS\",\"HS Graduate\",\"Some College\",\"Bachelor's Degree\",\"Graduate / Professional Degree\"],\"xaxis\":\"x43\",\"y\":[35411,24101,31178,35629,48894,58385],\"yaxis\":\"y43\"},{\"hovertemplate\":\"%{y:$,}<extra></extra>\",\"marker\":{\"color\":[\"#79c2c5\",\"#3c9fbc\",\"#1c7aac\",\"#00569b\",\"#0c3575\",\"#101650\"]},\"type\":\"bar\",\"x\":[\"Median\",\"Did Not Graduate HS\",\"HS Graduate\",\"Some College\",\"Bachelor's Degree\",\"Graduate / Professional Degree\"],\"xaxis\":\"x44\",\"y\":[37244,26983,34113,34051,45744,67211],\"yaxis\":\"y44\"},{\"hovertemplate\":\"%{y:$,}<extra></extra>\",\"marker\":{\"color\":[\"#79c2c5\",\"#3c9fbc\",\"#1c7aac\",\"#00569b\",\"#0c3575\",\"#101650\"]},\"type\":\"bar\",\"x\":[\"Median\",\"Did Not Graduate HS\",\"HS Graduate\",\"Some College\",\"Bachelor's Degree\",\"Graduate / Professional Degree\"],\"xaxis\":\"x45\",\"y\":[38212,26447,32796,36342,42219,58831],\"yaxis\":\"y45\"},{\"hovertemplate\":\"%{y:$,}<extra></extra>\",\"marker\":{\"color\":[\"#79c2c5\",\"#3c9fbc\",\"#1c7aac\",\"#00569b\",\"#0c3575\",\"#101650\"]},\"type\":\"bar\",\"x\":[\"Median\",\"Did Not Graduate HS\",\"HS Graduate\",\"Some College\",\"Bachelor's Degree\",\"Graduate / Professional Degree\"],\"xaxis\":\"x46\",\"y\":[39141,24350,31314,37232,49377,62883],\"yaxis\":\"y46\"},{\"hovertemplate\":\"%{y:$,}<extra></extra>\",\"marker\":{\"color\":[\"#79c2c5\",\"#3c9fbc\",\"#1c7aac\",\"#00569b\",\"#0c3575\",\"#101650\"]},\"type\":\"bar\",\"x\":[\"Median\",\"Did Not Graduate HS\",\"HS Graduate\",\"Some College\",\"Bachelor's Degree\",\"Graduate / Professional Degree\"],\"xaxis\":\"x47\",\"y\":[38071,27167,32798,36570,48940,64662],\"yaxis\":\"y47\"},{\"hovertemplate\":\"%{y:$,}<extra></extra>\",\"marker\":{\"color\":[\"#79c2c5\",\"#3c9fbc\",\"#1c7aac\",\"#00569b\",\"#0c3575\",\"#101650\"]},\"type\":\"bar\",\"x\":[\"Median\",\"Did Not Graduate HS\",\"HS Graduate\",\"Some College\",\"Bachelor's Degree\",\"Graduate / Professional Degree\"],\"xaxis\":\"x48\",\"y\":[32885,21622,29027,31761,42600,51856],\"yaxis\":\"y48\"},{\"hovertemplate\":\"%{y:$,}<extra></extra>\",\"marker\":{\"color\":[\"#79c2c5\",\"#3c9fbc\",\"#1c7aac\",\"#00569b\",\"#0c3575\",\"#101650\"]},\"type\":\"bar\",\"x\":[\"Median\",\"Did Not Graduate HS\",\"HS Graduate\",\"Some College\",\"Bachelor's Degree\",\"Graduate / Professional Degree\"],\"xaxis\":\"x49\",\"y\":[38325,27262,32407,37304,48273,60751],\"yaxis\":\"y49\"},{\"hovertemplate\":\"%{y:$,}<extra></extra>\",\"marker\":{\"color\":[\"#79c2c5\",\"#3c9fbc\",\"#1c7aac\",\"#00569b\",\"#0c3575\",\"#101650\"]},\"type\":\"bar\",\"x\":[\"Median\",\"Did Not Graduate HS\",\"HS Graduate\",\"Some College\",\"Bachelor's Degree\",\"Graduate / Professional Degree\"],\"xaxis\":\"x50\",\"y\":[39187,30186,34082,36320,48193,62919],\"yaxis\":\"y50\"}],                        {\"annotations\":[{\"font\":{\"size\":16},\"showarrow\":false,\"text\":\"<b>Alabama<b>\",\"x\":0.08399999999999999,\"xanchor\":\"center\",\"xref\":\"paper\",\"y\":1.0,\"yanchor\":\"bottom\",\"yref\":\"paper\"},{\"font\":{\"size\":16},\"showarrow\":false,\"text\":\"<b>Alaska<b>\",\"x\":0.292,\"xanchor\":\"center\",\"xref\":\"paper\",\"y\":1.0,\"yanchor\":\"bottom\",\"yref\":\"paper\"},{\"font\":{\"size\":16},\"showarrow\":false,\"text\":\"<b>Arizona<b>\",\"x\":0.5,\"xanchor\":\"center\",\"xref\":\"paper\",\"y\":1.0,\"yanchor\":\"bottom\",\"yref\":\"paper\"},{\"font\":{\"size\":16},\"showarrow\":false,\"text\":\"<b>Arkansas<b>\",\"x\":0.708,\"xanchor\":\"center\",\"xref\":\"paper\",\"y\":1.0,\"yanchor\":\"bottom\",\"yref\":\"paper\"},{\"font\":{\"size\":16},\"showarrow\":false,\"text\":\"<b>California<b>\",\"x\":0.9159999999999999,\"xanchor\":\"center\",\"xref\":\"paper\",\"y\":1.0,\"yanchor\":\"bottom\",\"yref\":\"paper\"},{\"font\":{\"size\":16},\"showarrow\":false,\"text\":\"<b>Colorado<b>\",\"x\":0.08399999999999999,\"xanchor\":\"center\",\"xref\":\"paper\",\"y\":0.8950000000000001,\"yanchor\":\"bottom\",\"yref\":\"paper\"},{\"font\":{\"size\":16},\"showarrow\":false,\"text\":\"<b>Connecticut<b>\",\"x\":0.292,\"xanchor\":\"center\",\"xref\":\"paper\",\"y\":0.8950000000000001,\"yanchor\":\"bottom\",\"yref\":\"paper\"},{\"font\":{\"size\":16},\"showarrow\":false,\"text\":\"<b>Delaware<b>\",\"x\":0.5,\"xanchor\":\"center\",\"xref\":\"paper\",\"y\":0.8950000000000001,\"yanchor\":\"bottom\",\"yref\":\"paper\"},{\"font\":{\"size\":16},\"showarrow\":false,\"text\":\"<b>Florida<b>\",\"x\":0.708,\"xanchor\":\"center\",\"xref\":\"paper\",\"y\":0.8950000000000001,\"yanchor\":\"bottom\",\"yref\":\"paper\"},{\"font\":{\"size\":16},\"showarrow\":false,\"text\":\"<b>Georgia<b>\",\"x\":0.9159999999999999,\"xanchor\":\"center\",\"xref\":\"paper\",\"y\":0.8950000000000001,\"yanchor\":\"bottom\",\"yref\":\"paper\"},{\"font\":{\"size\":16},\"showarrow\":false,\"text\":\"<b>Hawaii<b>\",\"x\":0.08399999999999999,\"xanchor\":\"center\",\"xref\":\"paper\",\"y\":0.7900000000000001,\"yanchor\":\"bottom\",\"yref\":\"paper\"},{\"font\":{\"size\":16},\"showarrow\":false,\"text\":\"<b>Idaho<b>\",\"x\":0.292,\"xanchor\":\"center\",\"xref\":\"paper\",\"y\":0.7900000000000001,\"yanchor\":\"bottom\",\"yref\":\"paper\"},{\"font\":{\"size\":16},\"showarrow\":false,\"text\":\"<b>Illinois<b>\",\"x\":0.5,\"xanchor\":\"center\",\"xref\":\"paper\",\"y\":0.7900000000000001,\"yanchor\":\"bottom\",\"yref\":\"paper\"},{\"font\":{\"size\":16},\"showarrow\":false,\"text\":\"<b> Indiana<b>\",\"x\":0.708,\"xanchor\":\"center\",\"xref\":\"paper\",\"y\":0.7900000000000001,\"yanchor\":\"bottom\",\"yref\":\"paper\"},{\"font\":{\"size\":16},\"showarrow\":false,\"text\":\"<b>Iowa<b>\",\"x\":0.9159999999999999,\"xanchor\":\"center\",\"xref\":\"paper\",\"y\":0.7900000000000001,\"yanchor\":\"bottom\",\"yref\":\"paper\"},{\"font\":{\"size\":16},\"showarrow\":false,\"text\":\"<b>Kansas<b>\",\"x\":0.08399999999999999,\"xanchor\":\"center\",\"xref\":\"paper\",\"y\":0.6850000000000002,\"yanchor\":\"bottom\",\"yref\":\"paper\"},{\"font\":{\"size\":16},\"showarrow\":false,\"text\":\"<b>Kentucky<b>\",\"x\":0.292,\"xanchor\":\"center\",\"xref\":\"paper\",\"y\":0.6850000000000002,\"yanchor\":\"bottom\",\"yref\":\"paper\"},{\"font\":{\"size\":16},\"showarrow\":false,\"text\":\"<b>Louisiana<b>\",\"x\":0.5,\"xanchor\":\"center\",\"xref\":\"paper\",\"y\":0.6850000000000002,\"yanchor\":\"bottom\",\"yref\":\"paper\"},{\"font\":{\"size\":16},\"showarrow\":false,\"text\":\"<b>Maine<b>\",\"x\":0.708,\"xanchor\":\"center\",\"xref\":\"paper\",\"y\":0.6850000000000002,\"yanchor\":\"bottom\",\"yref\":\"paper\"},{\"font\":{\"size\":16},\"showarrow\":false,\"text\":\"<b>Maryland<b>\",\"x\":0.9159999999999999,\"xanchor\":\"center\",\"xref\":\"paper\",\"y\":0.6850000000000002,\"yanchor\":\"bottom\",\"yref\":\"paper\"},{\"font\":{\"size\":16},\"showarrow\":false,\"text\":\"<b>Massachusetts<b>\",\"x\":0.08399999999999999,\"xanchor\":\"center\",\"xref\":\"paper\",\"y\":0.5800000000000001,\"yanchor\":\"bottom\",\"yref\":\"paper\"},{\"font\":{\"size\":16},\"showarrow\":false,\"text\":\"<b>Michigan<b>\",\"x\":0.292,\"xanchor\":\"center\",\"xref\":\"paper\",\"y\":0.5800000000000001,\"yanchor\":\"bottom\",\"yref\":\"paper\"},{\"font\":{\"size\":16},\"showarrow\":false,\"text\":\"<b>Minnesota<b>\",\"x\":0.5,\"xanchor\":\"center\",\"xref\":\"paper\",\"y\":0.5800000000000001,\"yanchor\":\"bottom\",\"yref\":\"paper\"},{\"font\":{\"size\":16},\"showarrow\":false,\"text\":\"<b>Mississippi<b>\",\"x\":0.708,\"xanchor\":\"center\",\"xref\":\"paper\",\"y\":0.5800000000000001,\"yanchor\":\"bottom\",\"yref\":\"paper\"},{\"font\":{\"size\":16},\"showarrow\":false,\"text\":\"<b>Missouri<b>\",\"x\":0.9159999999999999,\"xanchor\":\"center\",\"xref\":\"paper\",\"y\":0.5800000000000001,\"yanchor\":\"bottom\",\"yref\":\"paper\"},{\"font\":{\"size\":16},\"showarrow\":false,\"text\":\"<b>Montana<b>\",\"x\":0.08399999999999999,\"xanchor\":\"center\",\"xref\":\"paper\",\"y\":0.47500000000000003,\"yanchor\":\"bottom\",\"yref\":\"paper\"},{\"font\":{\"size\":16},\"showarrow\":false,\"text\":\"<b>Nebraska<b>\",\"x\":0.292,\"xanchor\":\"center\",\"xref\":\"paper\",\"y\":0.47500000000000003,\"yanchor\":\"bottom\",\"yref\":\"paper\"},{\"font\":{\"size\":16},\"showarrow\":false,\"text\":\"<b>Nevada<b>\",\"x\":0.5,\"xanchor\":\"center\",\"xref\":\"paper\",\"y\":0.47500000000000003,\"yanchor\":\"bottom\",\"yref\":\"paper\"},{\"font\":{\"size\":16},\"showarrow\":false,\"text\":\"<b>New Hampshire<b>\",\"x\":0.708,\"xanchor\":\"center\",\"xref\":\"paper\",\"y\":0.47500000000000003,\"yanchor\":\"bottom\",\"yref\":\"paper\"},{\"font\":{\"size\":16},\"showarrow\":false,\"text\":\"<b>New Jersey<b>\",\"x\":0.9159999999999999,\"xanchor\":\"center\",\"xref\":\"paper\",\"y\":0.47500000000000003,\"yanchor\":\"bottom\",\"yref\":\"paper\"},{\"font\":{\"size\":16},\"showarrow\":false,\"text\":\"<b>New Mexico<b>\",\"x\":0.08399999999999999,\"xanchor\":\"center\",\"xref\":\"paper\",\"y\":0.37000000000000005,\"yanchor\":\"bottom\",\"yref\":\"paper\"},{\"font\":{\"size\":16},\"showarrow\":false,\"text\":\"<b>New York<b>\",\"x\":0.292,\"xanchor\":\"center\",\"xref\":\"paper\",\"y\":0.37000000000000005,\"yanchor\":\"bottom\",\"yref\":\"paper\"},{\"font\":{\"size\":16},\"showarrow\":false,\"text\":\"<b>North Carolina<b>\",\"x\":0.5,\"xanchor\":\"center\",\"xref\":\"paper\",\"y\":0.37000000000000005,\"yanchor\":\"bottom\",\"yref\":\"paper\"},{\"font\":{\"size\":16},\"showarrow\":false,\"text\":\"<b>North Dakota<b>\",\"x\":0.708,\"xanchor\":\"center\",\"xref\":\"paper\",\"y\":0.37000000000000005,\"yanchor\":\"bottom\",\"yref\":\"paper\"},{\"font\":{\"size\":16},\"showarrow\":false,\"text\":\"<b>Ohio<b>\",\"x\":0.9159999999999999,\"xanchor\":\"center\",\"xref\":\"paper\",\"y\":0.37000000000000005,\"yanchor\":\"bottom\",\"yref\":\"paper\"},{\"font\":{\"size\":16},\"showarrow\":false,\"text\":\"<b>Oklahoma<b>\",\"x\":0.08399999999999999,\"xanchor\":\"center\",\"xref\":\"paper\",\"y\":0.265,\"yanchor\":\"bottom\",\"yref\":\"paper\"},{\"font\":{\"size\":16},\"showarrow\":false,\"text\":\"<b>Oregon<b>\",\"x\":0.292,\"xanchor\":\"center\",\"xref\":\"paper\",\"y\":0.265,\"yanchor\":\"bottom\",\"yref\":\"paper\"},{\"font\":{\"size\":16},\"showarrow\":false,\"text\":\"<b>Pennsylvania<b>\",\"x\":0.5,\"xanchor\":\"center\",\"xref\":\"paper\",\"y\":0.265,\"yanchor\":\"bottom\",\"yref\":\"paper\"},{\"font\":{\"size\":16},\"showarrow\":false,\"text\":\"<b>Rhode Island<b>\",\"x\":0.708,\"xanchor\":\"center\",\"xref\":\"paper\",\"y\":0.265,\"yanchor\":\"bottom\",\"yref\":\"paper\"},{\"font\":{\"size\":16},\"showarrow\":false,\"text\":\"<b>South Carolina<b>\",\"x\":0.9159999999999999,\"xanchor\":\"center\",\"xref\":\"paper\",\"y\":0.265,\"yanchor\":\"bottom\",\"yref\":\"paper\"},{\"font\":{\"size\":16},\"showarrow\":false,\"text\":\"<b>South Dakota<b>\",\"x\":0.08399999999999999,\"xanchor\":\"center\",\"xref\":\"paper\",\"y\":0.16000000000000003,\"yanchor\":\"bottom\",\"yref\":\"paper\"},{\"font\":{\"size\":16},\"showarrow\":false,\"text\":\"<b>Tennessee<b>\",\"x\":0.292,\"xanchor\":\"center\",\"xref\":\"paper\",\"y\":0.16000000000000003,\"yanchor\":\"bottom\",\"yref\":\"paper\"},{\"font\":{\"size\":16},\"showarrow\":false,\"text\":\"<b>Texas<b>\",\"x\":0.5,\"xanchor\":\"center\",\"xref\":\"paper\",\"y\":0.16000000000000003,\"yanchor\":\"bottom\",\"yref\":\"paper\"},{\"font\":{\"size\":16},\"showarrow\":false,\"text\":\"<b>Utah<b>\",\"x\":0.708,\"xanchor\":\"center\",\"xref\":\"paper\",\"y\":0.16000000000000003,\"yanchor\":\"bottom\",\"yref\":\"paper\"},{\"font\":{\"size\":16},\"showarrow\":false,\"text\":\"<b>Vermont<b>\",\"x\":0.9159999999999999,\"xanchor\":\"center\",\"xref\":\"paper\",\"y\":0.16000000000000003,\"yanchor\":\"bottom\",\"yref\":\"paper\"},{\"font\":{\"size\":16},\"showarrow\":false,\"text\":\"<b>Virginia<b>\",\"x\":0.08399999999999999,\"xanchor\":\"center\",\"xref\":\"paper\",\"y\":0.05500000000000001,\"yanchor\":\"bottom\",\"yref\":\"paper\"},{\"font\":{\"size\":16},\"showarrow\":false,\"text\":\"<b>Washington<b>\",\"x\":0.292,\"xanchor\":\"center\",\"xref\":\"paper\",\"y\":0.05500000000000001,\"yanchor\":\"bottom\",\"yref\":\"paper\"},{\"font\":{\"size\":16},\"showarrow\":false,\"text\":\"<b>West Virginia<b>\",\"x\":0.5,\"xanchor\":\"center\",\"xref\":\"paper\",\"y\":0.05500000000000001,\"yanchor\":\"bottom\",\"yref\":\"paper\"},{\"font\":{\"size\":16},\"showarrow\":false,\"text\":\"<b>Wisconsin<b>\",\"x\":0.708,\"xanchor\":\"center\",\"xref\":\"paper\",\"y\":0.05500000000000001,\"yanchor\":\"bottom\",\"yref\":\"paper\"},{\"font\":{\"size\":16},\"showarrow\":false,\"text\":\"<b>Wyoming<b>\",\"x\":0.9159999999999999,\"xanchor\":\"center\",\"xref\":\"paper\",\"y\":0.05500000000000001,\"yanchor\":\"bottom\",\"yref\":\"paper\"}],\"height\":2400,\"hoverlabel\":{\"bgcolor\":\"white\",\"font\":{\"color\":\"#1d2f3d\",\"family\":\"Open Sans\",\"size\":18}},\"paper_bgcolor\":\"#d6dbdf\",\"plot_bgcolor\":\"#d6dbdf\",\"showlegend\":false,\"template\":{\"data\":{\"bar\":[{\"error_x\":{\"color\":\"#2a3f5f\"},\"error_y\":{\"color\":\"#2a3f5f\"},\"marker\":{\"line\":{\"color\":\"#E5ECF6\",\"width\":0.5},\"pattern\":{\"fillmode\":\"overlay\",\"size\":10,\"solidity\":0.2}},\"type\":\"bar\"}],\"barpolar\":[{\"marker\":{\"line\":{\"color\":\"#E5ECF6\",\"width\":0.5},\"pattern\":{\"fillmode\":\"overlay\",\"size\":10,\"solidity\":0.2}},\"type\":\"barpolar\"}],\"carpet\":[{\"aaxis\":{\"endlinecolor\":\"#2a3f5f\",\"gridcolor\":\"white\",\"linecolor\":\"white\",\"minorgridcolor\":\"white\",\"startlinecolor\":\"#2a3f5f\"},\"baxis\":{\"endlinecolor\":\"#2a3f5f\",\"gridcolor\":\"white\",\"linecolor\":\"white\",\"minorgridcolor\":\"white\",\"startlinecolor\":\"#2a3f5f\"},\"type\":\"carpet\"}],\"choropleth\":[{\"colorbar\":{\"outlinewidth\":0,\"ticks\":\"\"},\"type\":\"choropleth\"}],\"contour\":[{\"colorbar\":{\"outlinewidth\":0,\"ticks\":\"\"},\"colorscale\":[[0.0,\"#0d0887\"],[0.1111111111111111,\"#46039f\"],[0.2222222222222222,\"#7201a8\"],[0.3333333333333333,\"#9c179e\"],[0.4444444444444444,\"#bd3786\"],[0.5555555555555556,\"#d8576b\"],[0.6666666666666666,\"#ed7953\"],[0.7777777777777778,\"#fb9f3a\"],[0.8888888888888888,\"#fdca26\"],[1.0,\"#f0f921\"]],\"type\":\"contour\"}],\"contourcarpet\":[{\"colorbar\":{\"outlinewidth\":0,\"ticks\":\"\"},\"type\":\"contourcarpet\"}],\"heatmap\":[{\"colorbar\":{\"outlinewidth\":0,\"ticks\":\"\"},\"colorscale\":[[0.0,\"#0d0887\"],[0.1111111111111111,\"#46039f\"],[0.2222222222222222,\"#7201a8\"],[0.3333333333333333,\"#9c179e\"],[0.4444444444444444,\"#bd3786\"],[0.5555555555555556,\"#d8576b\"],[0.6666666666666666,\"#ed7953\"],[0.7777777777777778,\"#fb9f3a\"],[0.8888888888888888,\"#fdca26\"],[1.0,\"#f0f921\"]],\"type\":\"heatmap\"}],\"heatmapgl\":[{\"colorbar\":{\"outlinewidth\":0,\"ticks\":\"\"},\"colorscale\":[[0.0,\"#0d0887\"],[0.1111111111111111,\"#46039f\"],[0.2222222222222222,\"#7201a8\"],[0.3333333333333333,\"#9c179e\"],[0.4444444444444444,\"#bd3786\"],[0.5555555555555556,\"#d8576b\"],[0.6666666666666666,\"#ed7953\"],[0.7777777777777778,\"#fb9f3a\"],[0.8888888888888888,\"#fdca26\"],[1.0,\"#f0f921\"]],\"type\":\"heatmapgl\"}],\"histogram\":[{\"marker\":{\"pattern\":{\"fillmode\":\"overlay\",\"size\":10,\"solidity\":0.2}},\"type\":\"histogram\"}],\"histogram2d\":[{\"colorbar\":{\"outlinewidth\":0,\"ticks\":\"\"},\"colorscale\":[[0.0,\"#0d0887\"],[0.1111111111111111,\"#46039f\"],[0.2222222222222222,\"#7201a8\"],[0.3333333333333333,\"#9c179e\"],[0.4444444444444444,\"#bd3786\"],[0.5555555555555556,\"#d8576b\"],[0.6666666666666666,\"#ed7953\"],[0.7777777777777778,\"#fb9f3a\"],[0.8888888888888888,\"#fdca26\"],[1.0,\"#f0f921\"]],\"type\":\"histogram2d\"}],\"histogram2dcontour\":[{\"colorbar\":{\"outlinewidth\":0,\"ticks\":\"\"},\"colorscale\":[[0.0,\"#0d0887\"],[0.1111111111111111,\"#46039f\"],[0.2222222222222222,\"#7201a8\"],[0.3333333333333333,\"#9c179e\"],[0.4444444444444444,\"#bd3786\"],[0.5555555555555556,\"#d8576b\"],[0.6666666666666666,\"#ed7953\"],[0.7777777777777778,\"#fb9f3a\"],[0.8888888888888888,\"#fdca26\"],[1.0,\"#f0f921\"]],\"type\":\"histogram2dcontour\"}],\"mesh3d\":[{\"colorbar\":{\"outlinewidth\":0,\"ticks\":\"\"},\"type\":\"mesh3d\"}],\"parcoords\":[{\"line\":{\"colorbar\":{\"outlinewidth\":0,\"ticks\":\"\"}},\"type\":\"parcoords\"}],\"pie\":[{\"automargin\":true,\"type\":\"pie\"}],\"scatter\":[{\"marker\":{\"colorbar\":{\"outlinewidth\":0,\"ticks\":\"\"}},\"type\":\"scatter\"}],\"scatter3d\":[{\"line\":{\"colorbar\":{\"outlinewidth\":0,\"ticks\":\"\"}},\"marker\":{\"colorbar\":{\"outlinewidth\":0,\"ticks\":\"\"}},\"type\":\"scatter3d\"}],\"scattercarpet\":[{\"marker\":{\"colorbar\":{\"outlinewidth\":0,\"ticks\":\"\"}},\"type\":\"scattercarpet\"}],\"scattergeo\":[{\"marker\":{\"colorbar\":{\"outlinewidth\":0,\"ticks\":\"\"}},\"type\":\"scattergeo\"}],\"scattergl\":[{\"marker\":{\"colorbar\":{\"outlinewidth\":0,\"ticks\":\"\"}},\"type\":\"scattergl\"}],\"scattermapbox\":[{\"marker\":{\"colorbar\":{\"outlinewidth\":0,\"ticks\":\"\"}},\"type\":\"scattermapbox\"}],\"scatterpolar\":[{\"marker\":{\"colorbar\":{\"outlinewidth\":0,\"ticks\":\"\"}},\"type\":\"scatterpolar\"}],\"scatterpolargl\":[{\"marker\":{\"colorbar\":{\"outlinewidth\":0,\"ticks\":\"\"}},\"type\":\"scatterpolargl\"}],\"scatterternary\":[{\"marker\":{\"colorbar\":{\"outlinewidth\":0,\"ticks\":\"\"}},\"type\":\"scatterternary\"}],\"surface\":[{\"colorbar\":{\"outlinewidth\":0,\"ticks\":\"\"},\"colorscale\":[[0.0,\"#0d0887\"],[0.1111111111111111,\"#46039f\"],[0.2222222222222222,\"#7201a8\"],[0.3333333333333333,\"#9c179e\"],[0.4444444444444444,\"#bd3786\"],[0.5555555555555556,\"#d8576b\"],[0.6666666666666666,\"#ed7953\"],[0.7777777777777778,\"#fb9f3a\"],[0.8888888888888888,\"#fdca26\"],[1.0,\"#f0f921\"]],\"type\":\"surface\"}],\"table\":[{\"cells\":{\"fill\":{\"color\":\"#EBF0F8\"},\"line\":{\"color\":\"white\"}},\"header\":{\"fill\":{\"color\":\"#C8D4E3\"},\"line\":{\"color\":\"white\"}},\"type\":\"table\"}]},\"layout\":{\"annotationdefaults\":{\"arrowcolor\":\"#2a3f5f\",\"arrowhead\":0,\"arrowwidth\":1},\"autotypenumbers\":\"strict\",\"coloraxis\":{\"colorbar\":{\"outlinewidth\":0,\"ticks\":\"\"}},\"colorscale\":{\"diverging\":[[0,\"#8e0152\"],[0.1,\"#c51b7d\"],[0.2,\"#de77ae\"],[0.3,\"#f1b6da\"],[0.4,\"#fde0ef\"],[0.5,\"#f7f7f7\"],[0.6,\"#e6f5d0\"],[0.7,\"#b8e186\"],[0.8,\"#7fbc41\"],[0.9,\"#4d9221\"],[1,\"#276419\"]],\"sequential\":[[0.0,\"#0d0887\"],[0.1111111111111111,\"#46039f\"],[0.2222222222222222,\"#7201a8\"],[0.3333333333333333,\"#9c179e\"],[0.4444444444444444,\"#bd3786\"],[0.5555555555555556,\"#d8576b\"],[0.6666666666666666,\"#ed7953\"],[0.7777777777777778,\"#fb9f3a\"],[0.8888888888888888,\"#fdca26\"],[1.0,\"#f0f921\"]],\"sequentialminus\":[[0.0,\"#0d0887\"],[0.1111111111111111,\"#46039f\"],[0.2222222222222222,\"#7201a8\"],[0.3333333333333333,\"#9c179e\"],[0.4444444444444444,\"#bd3786\"],[0.5555555555555556,\"#d8576b\"],[0.6666666666666666,\"#ed7953\"],[0.7777777777777778,\"#fb9f3a\"],[0.8888888888888888,\"#fdca26\"],[1.0,\"#f0f921\"]]},\"colorway\":[\"#636efa\",\"#EF553B\",\"#00cc96\",\"#ab63fa\",\"#FFA15A\",\"#19d3f3\",\"#FF6692\",\"#B6E880\",\"#FF97FF\",\"#FECB52\"],\"font\":{\"color\":\"#2a3f5f\"},\"geo\":{\"bgcolor\":\"white\",\"lakecolor\":\"white\",\"landcolor\":\"#E5ECF6\",\"showlakes\":true,\"showland\":true,\"subunitcolor\":\"white\"},\"hoverlabel\":{\"align\":\"left\"},\"hovermode\":\"closest\",\"mapbox\":{\"style\":\"light\"},\"paper_bgcolor\":\"white\",\"plot_bgcolor\":\"#E5ECF6\",\"polar\":{\"angularaxis\":{\"gridcolor\":\"white\",\"linecolor\":\"white\",\"ticks\":\"\"},\"bgcolor\":\"#E5ECF6\",\"radialaxis\":{\"gridcolor\":\"white\",\"linecolor\":\"white\",\"ticks\":\"\"}},\"scene\":{\"xaxis\":{\"backgroundcolor\":\"#E5ECF6\",\"gridcolor\":\"white\",\"gridwidth\":2,\"linecolor\":\"white\",\"showbackground\":true,\"ticks\":\"\",\"zerolinecolor\":\"white\"},\"yaxis\":{\"backgroundcolor\":\"#E5ECF6\",\"gridcolor\":\"white\",\"gridwidth\":2,\"linecolor\":\"white\",\"showbackground\":true,\"ticks\":\"\",\"zerolinecolor\":\"white\"},\"zaxis\":{\"backgroundcolor\":\"#E5ECF6\",\"gridcolor\":\"white\",\"gridwidth\":2,\"linecolor\":\"white\",\"showbackground\":true,\"ticks\":\"\",\"zerolinecolor\":\"white\"}},\"shapedefaults\":{\"line\":{\"color\":\"#2a3f5f\"}},\"ternary\":{\"aaxis\":{\"gridcolor\":\"white\",\"linecolor\":\"white\",\"ticks\":\"\"},\"baxis\":{\"gridcolor\":\"white\",\"linecolor\":\"white\",\"ticks\":\"\"},\"bgcolor\":\"#E5ECF6\",\"caxis\":{\"gridcolor\":\"white\",\"linecolor\":\"white\",\"ticks\":\"\"}},\"title\":{\"x\":0.05},\"xaxis\":{\"automargin\":true,\"gridcolor\":\"white\",\"linecolor\":\"white\",\"ticks\":\"\",\"title\":{\"standoff\":15},\"zerolinecolor\":\"white\",\"zerolinewidth\":2},\"yaxis\":{\"automargin\":true,\"gridcolor\":\"white\",\"linecolor\":\"white\",\"ticks\":\"\",\"title\":{\"standoff\":15},\"zerolinecolor\":\"white\",\"zerolinewidth\":2}}},\"title\":{\"font\":{\"color\":\"#15202b\",\"family\":\"Open Sans\",\"size\":32},\"text\":\"<b>State Median Incomes by Degree (2019)<b>\"},\"width\":1000,\"xaxis\":{\"anchor\":\"y\",\"domain\":[0.0,0.16799999999999998],\"visible\":false},\"xaxis10\":{\"anchor\":\"y10\",\"domain\":[0.832,1.0],\"visible\":false},\"xaxis11\":{\"anchor\":\"y11\",\"domain\":[0.0,0.16799999999999998],\"visible\":false},\"xaxis12\":{\"anchor\":\"y12\",\"domain\":[0.208,0.376],\"visible\":false},\"xaxis13\":{\"anchor\":\"y13\",\"domain\":[0.416,0.584],\"visible\":false},\"xaxis14\":{\"anchor\":\"y14\",\"domain\":[0.624,0.792],\"visible\":false},\"xaxis15\":{\"anchor\":\"y15\",\"domain\":[0.832,1.0],\"visible\":false},\"xaxis16\":{\"anchor\":\"y16\",\"domain\":[0.0,0.16799999999999998],\"visible\":false},\"xaxis17\":{\"anchor\":\"y17\",\"domain\":[0.208,0.376],\"visible\":false},\"xaxis18\":{\"anchor\":\"y18\",\"domain\":[0.416,0.584],\"visible\":false},\"xaxis19\":{\"anchor\":\"y19\",\"domain\":[0.624,0.792],\"visible\":false},\"xaxis2\":{\"anchor\":\"y2\",\"domain\":[0.208,0.376],\"visible\":false},\"xaxis20\":{\"anchor\":\"y20\",\"domain\":[0.832,1.0],\"visible\":false},\"xaxis21\":{\"anchor\":\"y21\",\"domain\":[0.0,0.16799999999999998],\"visible\":false},\"xaxis22\":{\"anchor\":\"y22\",\"domain\":[0.208,0.376],\"visible\":false},\"xaxis23\":{\"anchor\":\"y23\",\"domain\":[0.416,0.584],\"visible\":false},\"xaxis24\":{\"anchor\":\"y24\",\"domain\":[0.624,0.792],\"visible\":false},\"xaxis25\":{\"anchor\":\"y25\",\"domain\":[0.832,1.0],\"visible\":false},\"xaxis26\":{\"anchor\":\"y26\",\"domain\":[0.0,0.16799999999999998],\"visible\":false},\"xaxis27\":{\"anchor\":\"y27\",\"domain\":[0.208,0.376],\"visible\":false},\"xaxis28\":{\"anchor\":\"y28\",\"domain\":[0.416,0.584],\"visible\":false},\"xaxis29\":{\"anchor\":\"y29\",\"domain\":[0.624,0.792],\"visible\":false},\"xaxis3\":{\"anchor\":\"y3\",\"domain\":[0.416,0.584],\"visible\":false},\"xaxis30\":{\"anchor\":\"y30\",\"domain\":[0.832,1.0],\"visible\":false},\"xaxis31\":{\"anchor\":\"y31\",\"domain\":[0.0,0.16799999999999998],\"visible\":false},\"xaxis32\":{\"anchor\":\"y32\",\"domain\":[0.208,0.376],\"visible\":false},\"xaxis33\":{\"anchor\":\"y33\",\"domain\":[0.416,0.584],\"visible\":false},\"xaxis34\":{\"anchor\":\"y34\",\"domain\":[0.624,0.792],\"visible\":false},\"xaxis35\":{\"anchor\":\"y35\",\"domain\":[0.832,1.0],\"visible\":false},\"xaxis36\":{\"anchor\":\"y36\",\"domain\":[0.0,0.16799999999999998],\"visible\":false},\"xaxis37\":{\"anchor\":\"y37\",\"domain\":[0.208,0.376],\"visible\":false},\"xaxis38\":{\"anchor\":\"y38\",\"domain\":[0.416,0.584],\"visible\":false},\"xaxis39\":{\"anchor\":\"y39\",\"domain\":[0.624,0.792],\"visible\":false},\"xaxis4\":{\"anchor\":\"y4\",\"domain\":[0.624,0.792],\"visible\":false},\"xaxis40\":{\"anchor\":\"y40\",\"domain\":[0.832,1.0],\"visible\":false},\"xaxis41\":{\"anchor\":\"y41\",\"domain\":[0.0,0.16799999999999998],\"visible\":false},\"xaxis42\":{\"anchor\":\"y42\",\"domain\":[0.208,0.376],\"visible\":false},\"xaxis43\":{\"anchor\":\"y43\",\"domain\":[0.416,0.584],\"visible\":false},\"xaxis44\":{\"anchor\":\"y44\",\"domain\":[0.624,0.792],\"visible\":false},\"xaxis45\":{\"anchor\":\"y45\",\"domain\":[0.832,1.0],\"visible\":false},\"xaxis46\":{\"anchor\":\"y46\",\"domain\":[0.0,0.16799999999999998],\"visible\":false},\"xaxis47\":{\"anchor\":\"y47\",\"domain\":[0.208,0.376],\"visible\":false},\"xaxis48\":{\"anchor\":\"y48\",\"domain\":[0.416,0.584],\"visible\":false},\"xaxis49\":{\"anchor\":\"y49\",\"domain\":[0.624,0.792],\"visible\":false},\"xaxis5\":{\"anchor\":\"y5\",\"domain\":[0.832,1.0],\"visible\":false},\"xaxis50\":{\"anchor\":\"y50\",\"domain\":[0.832,1.0],\"visible\":false},\"xaxis6\":{\"anchor\":\"y6\",\"domain\":[0.0,0.16799999999999998],\"visible\":false},\"xaxis7\":{\"anchor\":\"y7\",\"domain\":[0.208,0.376],\"visible\":false},\"xaxis8\":{\"anchor\":\"y8\",\"domain\":[0.416,0.584],\"visible\":false},\"xaxis9\":{\"anchor\":\"y9\",\"domain\":[0.624,0.792],\"visible\":false},\"yaxis\":{\"anchor\":\"x\",\"domain\":[0.9450000000000001,1.0],\"visible\":false},\"yaxis10\":{\"anchor\":\"x10\",\"domain\":[0.8400000000000001,0.8950000000000001],\"matches\":\"y6\",\"showticklabels\":false,\"visible\":false},\"yaxis11\":{\"anchor\":\"x11\",\"domain\":[0.7350000000000001,0.7900000000000001],\"visible\":false},\"yaxis12\":{\"anchor\":\"x12\",\"domain\":[0.7350000000000001,0.7900000000000001],\"matches\":\"y11\",\"showticklabels\":false,\"visible\":false},\"yaxis13\":{\"anchor\":\"x13\",\"domain\":[0.7350000000000001,0.7900000000000001],\"matches\":\"y11\",\"showticklabels\":false,\"visible\":false},\"yaxis14\":{\"anchor\":\"x14\",\"domain\":[0.7350000000000001,0.7900000000000001],\"matches\":\"y11\",\"showticklabels\":false,\"visible\":false},\"yaxis15\":{\"anchor\":\"x15\",\"domain\":[0.7350000000000001,0.7900000000000001],\"matches\":\"y11\",\"showticklabels\":false,\"visible\":false},\"yaxis16\":{\"anchor\":\"x16\",\"domain\":[0.6300000000000001,0.6850000000000002],\"visible\":false},\"yaxis17\":{\"anchor\":\"x17\",\"domain\":[0.6300000000000001,0.6850000000000002],\"matches\":\"y16\",\"showticklabels\":false,\"visible\":false},\"yaxis18\":{\"anchor\":\"x18\",\"domain\":[0.6300000000000001,0.6850000000000002],\"matches\":\"y16\",\"showticklabels\":false,\"visible\":false},\"yaxis19\":{\"anchor\":\"x19\",\"domain\":[0.6300000000000001,0.6850000000000002],\"matches\":\"y16\",\"showticklabels\":false,\"visible\":false},\"yaxis2\":{\"anchor\":\"x2\",\"domain\":[0.9450000000000001,1.0],\"matches\":\"y\",\"showticklabels\":false,\"visible\":false},\"yaxis20\":{\"anchor\":\"x20\",\"domain\":[0.6300000000000001,0.6850000000000002],\"matches\":\"y16\",\"showticklabels\":false,\"visible\":false},\"yaxis21\":{\"anchor\":\"x21\",\"domain\":[0.525,0.5800000000000001],\"visible\":false},\"yaxis22\":{\"anchor\":\"x22\",\"domain\":[0.525,0.5800000000000001],\"matches\":\"y21\",\"showticklabels\":false,\"visible\":false},\"yaxis23\":{\"anchor\":\"x23\",\"domain\":[0.525,0.5800000000000001],\"matches\":\"y21\",\"showticklabels\":false,\"visible\":false},\"yaxis24\":{\"anchor\":\"x24\",\"domain\":[0.525,0.5800000000000001],\"matches\":\"y21\",\"showticklabels\":false,\"visible\":false},\"yaxis25\":{\"anchor\":\"x25\",\"domain\":[0.525,0.5800000000000001],\"matches\":\"y21\",\"showticklabels\":false,\"visible\":false},\"yaxis26\":{\"anchor\":\"x26\",\"domain\":[0.42000000000000004,0.47500000000000003],\"visible\":false},\"yaxis27\":{\"anchor\":\"x27\",\"domain\":[0.42000000000000004,0.47500000000000003],\"matches\":\"y26\",\"showticklabels\":false,\"visible\":false},\"yaxis28\":{\"anchor\":\"x28\",\"domain\":[0.42000000000000004,0.47500000000000003],\"matches\":\"y26\",\"showticklabels\":false,\"visible\":false},\"yaxis29\":{\"anchor\":\"x29\",\"domain\":[0.42000000000000004,0.47500000000000003],\"matches\":\"y26\",\"showticklabels\":false,\"visible\":false},\"yaxis3\":{\"anchor\":\"x3\",\"domain\":[0.9450000000000001,1.0],\"matches\":\"y\",\"showticklabels\":false,\"visible\":false},\"yaxis30\":{\"anchor\":\"x30\",\"domain\":[0.42000000000000004,0.47500000000000003],\"matches\":\"y26\",\"showticklabels\":false,\"visible\":false},\"yaxis31\":{\"anchor\":\"x31\",\"domain\":[0.31500000000000006,0.37000000000000005],\"visible\":false},\"yaxis32\":{\"anchor\":\"x32\",\"domain\":[0.31500000000000006,0.37000000000000005],\"matches\":\"y31\",\"showticklabels\":false,\"visible\":false},\"yaxis33\":{\"anchor\":\"x33\",\"domain\":[0.31500000000000006,0.37000000000000005],\"matches\":\"y31\",\"showticklabels\":false,\"visible\":false},\"yaxis34\":{\"anchor\":\"x34\",\"domain\":[0.31500000000000006,0.37000000000000005],\"matches\":\"y31\",\"showticklabels\":false,\"visible\":false},\"yaxis35\":{\"anchor\":\"x35\",\"domain\":[0.31500000000000006,0.37000000000000005],\"matches\":\"y31\",\"showticklabels\":false,\"visible\":false},\"yaxis36\":{\"anchor\":\"x36\",\"domain\":[0.21000000000000002,0.265],\"visible\":false},\"yaxis37\":{\"anchor\":\"x37\",\"domain\":[0.21000000000000002,0.265],\"matches\":\"y36\",\"showticklabels\":false,\"visible\":false},\"yaxis38\":{\"anchor\":\"x38\",\"domain\":[0.21000000000000002,0.265],\"matches\":\"y36\",\"showticklabels\":false,\"visible\":false},\"yaxis39\":{\"anchor\":\"x39\",\"domain\":[0.21000000000000002,0.265],\"matches\":\"y36\",\"showticklabels\":false,\"visible\":false},\"yaxis4\":{\"anchor\":\"x4\",\"domain\":[0.9450000000000001,1.0],\"matches\":\"y\",\"showticklabels\":false,\"visible\":false},\"yaxis40\":{\"anchor\":\"x40\",\"domain\":[0.21000000000000002,0.265],\"matches\":\"y36\",\"showticklabels\":false,\"visible\":false},\"yaxis41\":{\"anchor\":\"x41\",\"domain\":[0.10500000000000001,0.16000000000000003],\"visible\":false},\"yaxis42\":{\"anchor\":\"x42\",\"domain\":[0.10500000000000001,0.16000000000000003],\"matches\":\"y41\",\"showticklabels\":false,\"visible\":false},\"yaxis43\":{\"anchor\":\"x43\",\"domain\":[0.10500000000000001,0.16000000000000003],\"matches\":\"y41\",\"showticklabels\":false,\"visible\":false},\"yaxis44\":{\"anchor\":\"x44\",\"domain\":[0.10500000000000001,0.16000000000000003],\"matches\":\"y41\",\"showticklabels\":false,\"visible\":false},\"yaxis45\":{\"anchor\":\"x45\",\"domain\":[0.10500000000000001,0.16000000000000003],\"matches\":\"y41\",\"showticklabels\":false,\"visible\":false},\"yaxis46\":{\"anchor\":\"x46\",\"domain\":[0.0,0.05500000000000001],\"visible\":false},\"yaxis47\":{\"anchor\":\"x47\",\"domain\":[0.0,0.05500000000000001],\"matches\":\"y46\",\"showticklabels\":false,\"visible\":false},\"yaxis48\":{\"anchor\":\"x48\",\"domain\":[0.0,0.05500000000000001],\"matches\":\"y46\",\"showticklabels\":false,\"visible\":false},\"yaxis49\":{\"anchor\":\"x49\",\"domain\":[0.0,0.05500000000000001],\"matches\":\"y46\",\"showticklabels\":false,\"visible\":false},\"yaxis5\":{\"anchor\":\"x5\",\"domain\":[0.9450000000000001,1.0],\"matches\":\"y\",\"showticklabels\":false,\"visible\":false},\"yaxis50\":{\"anchor\":\"x50\",\"domain\":[0.0,0.05500000000000001],\"matches\":\"y46\",\"showticklabels\":false,\"visible\":false},\"yaxis6\":{\"anchor\":\"x6\",\"domain\":[0.8400000000000001,0.8950000000000001],\"visible\":false},\"yaxis7\":{\"anchor\":\"x7\",\"domain\":[0.8400000000000001,0.8950000000000001],\"matches\":\"y6\",\"showticklabels\":false,\"visible\":false},\"yaxis8\":{\"anchor\":\"x8\",\"domain\":[0.8400000000000001,0.8950000000000001],\"matches\":\"y6\",\"showticklabels\":false,\"visible\":false},\"yaxis9\":{\"anchor\":\"x9\",\"domain\":[0.8400000000000001,0.8950000000000001],\"matches\":\"y6\",\"showticklabels\":false,\"visible\":false}},                        {\"responsive\": true}                    ).then(function(){\n",
       "                            \n",
       "var gd = document.getElementById('1354d2b9-ba16-48f9-842d-22d17b4a6d73');\n",
       "var x = new MutationObserver(function (mutations, observer) {{\n",
       "        var display = window.getComputedStyle(gd).display;\n",
       "        if (!display || display === 'none') {{\n",
       "            console.log([gd, 'removed!']);\n",
       "            Plotly.purge(gd);\n",
       "            observer.disconnect();\n",
       "        }}\n",
       "}});\n",
       "\n",
       "// Listen for the removal of the full notebook cells\n",
       "var notebookContainer = gd.closest('#notebook-container');\n",
       "if (notebookContainer) {{\n",
       "    x.observe(notebookContainer, {childList: true});\n",
       "}}\n",
       "\n",
       "// Listen for the clearing of the current output cell\n",
       "var outputEl = gd.closest('.output');\n",
       "if (outputEl) {{\n",
       "    x.observe(outputEl, {childList: true});\n",
       "}}\n",
       "\n",
       "                        })                };                });            </script>        </div>"
      ]
     },
     "metadata": {},
     "output_type": "display_data"
    }
   ],
   "source": [
    "# define labels\n",
    "labels = [\"Median\", \"Did Not Graduate HS\", \"HS Graduate\", \"Some College\",\"Bachelor's Degree\", \n",
    "          \"Graduate / Professional Degree\"]\n",
    "\n",
    "# define colors\n",
    "colors = ['#79c2c5', '#3c9fbc', '#1c7aac', '#00569b','#0c3575', '#101650']\n",
    "\n",
    "\n",
    "fig = make_subplots(rows=10, cols=5, shared_yaxes=True,\n",
    "                    subplot_titles=('<b>Alabama<b>','<b>Alaska<b>','<b>Arizona<b>','<b>Arkansas<b>',\n",
    "                                    '<b>California<b>',  '<b>Colorado<b>', '<b>Connecticut<b>', \n",
    "                                    '<b>Delaware<b>','<b>Florida<b>','<b>Georgia<b>','<b>Hawaii<b>',\n",
    "                                    '<b>Idaho<b>','<b>Illinois<b>','<b> Indiana<b>','<b>Iowa<b>','<b>Kansas<b>',\n",
    "                                    '<b>Kentucky<b>','<b>Louisiana<b>','<b>Maine<b>','<b>Maryland<b>',\n",
    "                                    '<b>Massachusetts<b>','<b>Michigan<b>','<b>Minnesota<b>','<b>Mississippi<b>',\n",
    "                                    '<b>Missouri<b>','<b>Montana<b>','<b>Nebraska<b>','<b>Nevada<b>',\n",
    "                                    '<b>New Hampshire<b>','<b>New Jersey<b>','<b>New Mexico<b>','<b>New York<b>',\n",
    "                                    '<b>North Carolina<b>','<b>North Dakota<b>','<b>Ohio<b>','<b>Oklahoma<b>',\n",
    "                                    '<b>Oregon<b>','<b>Pennsylvania<b>','<b>Rhode Island<b>',\n",
    "                                    '<b>South Carolina<b>','<b>South Dakota<b>','<b>Tennessee<b>',\n",
    "                                    '<b>Texas<b>','<b>Utah<b>','<b>Vermont<b>','<b>Virginia<b>',\n",
    "                                    '<b>Washington<b>','<b>West Virginia<b>','<b>Wisconsin<b>',\n",
    "                                    '<b>Wyoming<b>'))\n",
    "\n",
    "\n",
    "#  Alabama\n",
    "fig.add_trace(go.Bar(x=labels, y=[33225, 22474, 29147, 32884, 45397, 55705], marker_color = colors), 1, 1)\n",
    "\n",
    "#  Alaska\n",
    "fig.add_trace(go.Bar(x=labels, y=[40943, 22759, 32188, 43973, 55605, 71704], marker_color = colors), 1, 2)\n",
    "\n",
    "#  Arizona\n",
    "fig.add_trace(go.Bar(x=labels, y=[33428, 21939, 29111, 33344, 44925, 54105], marker_color = colors), 1, 3)\n",
    "\n",
    "# Arkansas\n",
    "fig.add_trace(go.Bar(x=labels, y=[31801, 23770, 28295, 30635, 44001, 54209], marker_color = colors), 1, 4)\n",
    "\n",
    "# California\n",
    "fig.add_trace(go.Bar(x=labels, y=[40019, 24085, 31918, 38120, 56615, 75375], marker_color = colors), 1, 5)\n",
    "            \n",
    "# Colorado\n",
    "fig.add_trace(go.Bar(x=labels, y=[37843, 27956, 32447, 34723, 45357, 54928], marker_color = colors), 2, 1)\n",
    "\n",
    "# Connecticut\n",
    "fig.add_trace(go.Bar(x=labels, y=[50370, 26030, 38874, 44426 ,63285, 81581], marker_color = colors), 2, 2)\n",
    "\n",
    "# Delaware\n",
    "fig.add_trace(go.Bar(x=labels, y=[41124, 27027, 32453, 37939, 54046, 69162], marker_color = colors), 2, 3)\n",
    "\n",
    "# Florida\n",
    "fig.add_trace(go.Bar(x=labels, y=[33151, 22374, 28188, 32715, 44193, 57066], marker_color = colors), 2, 4)\n",
    "              \n",
    "# Georgia\n",
    "fig.add_trace(go.Bar(x=labels, y=[33836, 23214, 29450, 33549, 47105, 57946], marker_color = colors), 2, 5)\n",
    "\n",
    "# Hawaii\n",
    "fig.add_trace(go.Bar(x=labels, y=[40472, 28792, 34474, 39181, 48382, 62564], marker_color = colors), 3, 1)\n",
    "\n",
    "# Idaho\n",
    "fig.add_trace(go.Bar(x=labels, y=[32462, 24879, 28925, 31648, 40724, 54906], marker_color = colors), 3, 2)\n",
    "\n",
    "# Illinois   \n",
    "fig.add_trace(go.Bar(x=labels, y=[38000, 22866, 31876, 36372, 48982, 61167], marker_color = colors), 3, 3)\n",
    "\n",
    "# Indiana\n",
    "fig.add_trace(go.Bar(x=labels, y=[37544, 25996, 33119, 36634, 47683, 59846], marker_color = colors), 3, 4)\n",
    "\n",
    "# Iowa\n",
    "fig.add_trace(go.Bar(x=labels, y=[38252, 28006, 33089, 36802, 47603, 61689], marker_color = colors), 3, 5)\n",
    "\n",
    "# Kansas\n",
    "fig.add_trace(go.Bar(x=labels, y=[35319, 26134, 30238, 34367, 43051, 52628], marker_color = colors), 4, 1)\n",
    "\n",
    "# Kentucky\n",
    "fig.add_trace(go.Bar(x=labels, y=[33736, 22905, 29794, 32493, 45499, 54720], marker_color = colors), 4, 2)\n",
    "\n",
    "# Louisiana\n",
    "fig.add_trace(go.Bar(x=labels, y=[34687, 22016, 30433, 33796, 47289, 57198], marker_color = colors), 4, 3)\n",
    "\n",
    "# Maine\n",
    "fig.add_trace(go.Bar(x=labels, y=[35016, 22018, 29441, 33959, 42898, 55313], marker_color = colors), 4, 4)\n",
    "\n",
    "# Maryland\n",
    "fig.add_trace(go.Bar(x=labels, y=[47902, 26933, 36240, 43319, 60568, 77737], marker_color = colors), 4, 5)\n",
    "\n",
    "# Massachusetts\n",
    "fig.add_trace(go.Bar(x=labels, y=[48467, 27745, 36950, 41932, 57758, 72572], marker_color = colors), 5, 1)\n",
    "\n",
    "# Michigan\n",
    "fig.add_trace(go.Bar(x=labels, y=[33943, 21519, 28365, 32727, 46811, 60820], marker_color = colors), 5, 2)\n",
    "\n",
    "# Minnesota\n",
    "fig.add_trace(go.Bar(x=labels, y=[39698, 26337, 32899, 38612, 50226, 63047], marker_color = colors), 5, 3)\n",
    "\n",
    "# Mississippi\n",
    "fig.add_trace(go.Bar(x=labels, y=[31068, 23340, 26876, 30259, 40489, 51738], marker_color = colors), 5, 4)\n",
    "              \n",
    "# Missouri\n",
    "fig.add_trace(go.Bar(x=labels, y=[32872, 23149, 29361, 31810, 41825, 49986], marker_color = colors), 5, 5)\n",
    "              \n",
    "# Montana\n",
    "fig.add_trace(go.Bar(x=labels, y=[33111, 24584, 28386, 31269, 40059, 55070], marker_color = colors), 6, 1)\n",
    "              \n",
    "# Nebraska\n",
    "fig.add_trace(go.Bar(x=labels, y=[36150, 27288, 31390, 34933, 43660, 58354], marker_color = colors), 6, 2)\n",
    "              \n",
    "# Nevada\n",
    "fig.add_trace(go.Bar(x=labels, y=[38553, 33529, 34927, 38043, 47823, 67272], marker_color = colors), 6, 3)\n",
    "              \n",
    "# New Hampshire\n",
    "fig.add_trace(go.Bar(x=labels, y=[42304, 26732, 34670, 39477, 51329, 66175], marker_color = colors), 6, 4)\n",
    "              \n",
    "# New Jersey\n",
    "fig.add_trace(go.Bar(x=labels, y=[50276, 25632, 35706, 43648, 65228, 86787], marker_color = colors), 6, 5)\n",
    "              \n",
    "# New Mexico\n",
    "fig.add_trace(go.Bar(x=labels, y=[32369, 22794, 26980, 31561, 42646, 56949], marker_color = colors), 7, 1)\n",
    "              \n",
    "# New York\n",
    "fig.add_trace(go.Bar(x=labels, y=[41235, 24555, 32522, 38517, 51861, 66535], marker_color = colors), 7, 2)\n",
    "\n",
    "# North Carolina\n",
    "fig.add_trace(go.Bar(x=labels, y=[33815, 22117, 28603, 33010, 45322, 54865], marker_color = colors), 7, 3)\n",
    "\n",
    "# North Dakota\n",
    "fig.add_trace(go.Bar(x=labels, y=[41605, 30885, 35870, 41350, 48487, 57253], marker_color = colors), 7, 4)\n",
    "              \n",
    "# Ohio  \n",
    "fig.add_trace(go.Bar(x=labels, y=[37614, 23894, 31842, 36252, 50103, 63041], marker_color = colors), 7, 5)\n",
    "\n",
    "# Oklahoma\n",
    "fig.add_trace(go.Bar(x=labels, y=[33885, 24738, 29607, 33086, 43637, 53319], marker_color = colors), 8, 1)\n",
    "              \n",
    "# Oregon\n",
    "fig.add_trace(go.Bar(x=labels, y=[34860, 25856, 30427, 33301, 46206, 58893], marker_color = colors), 8, 2)\n",
    "\n",
    "# Pennsylvania\n",
    "fig.add_trace(go.Bar(x=labels, y=[38310, 25502, 31900, 36783, 49801, 65229], marker_color = colors), 8, 3)\n",
    "\n",
    "# Rhode Island\n",
    "fig.add_trace(go.Bar(x=labels, y=[48836, 29479, 36466, 41397, 58117, 81086], marker_color = colors), 8, 4)\n",
    "\n",
    "# South Carolina\n",
    "fig.add_trace(go.Bar(x=labels, y=[32733, 21270, 28303, 32221, 43625, 53752], marker_color = colors), 8, 5)\n",
    "              \n",
    "# South Dakota\n",
    "fig.add_trace(go.Bar(x=labels, y=[35866, 26150, 31190, 34207, 44687, 53495], marker_color = colors), 9, 1)\n",
    "              \n",
    "# Tennessee\n",
    "fig.add_trace(go.Bar(x=labels, y=[33294, 22738, 29290, 33291, 45150, 55118], marker_color = colors), 9, 2)\n",
    "\n",
    "# Texas  \n",
    "fig.add_trace(go.Bar(x=labels, y=[35411, 24101, 31178, 35629, 48894, 58385], marker_color = colors), 9, 3)\n",
    "              \n",
    "# Utah\n",
    "fig.add_trace(go.Bar(x=labels, y=[37244, 26983, 34113, 34051, 45744, 67211], marker_color = colors), 9, 4)\n",
    "              \n",
    "# Vermont\n",
    "fig.add_trace(go.Bar(x=labels, y=[38212, 26447, 32796, 36342, 42219, 58831], marker_color = colors), 9, 5)\n",
    "              \n",
    "# Virginia\n",
    "fig.add_trace(go.Bar(x=labels, y=[39141, 24350, 31314, 37232, 49377, 62883], marker_color = colors), 10, 1)\n",
    "              \n",
    "# Washington\n",
    "fig.add_trace(go.Bar(x=labels, y=[38071, 27167, 32798, 36570, 48940, 64662], marker_color = colors), 10, 2)\n",
    "              \n",
    "# West Virginia\n",
    "fig.add_trace(go.Bar(x=labels, y=[32885, 21622, 29027, 31761, 42600, 51856], marker_color = colors), 10, 3)\n",
    "              \n",
    "# Wisconsin\n",
    "fig.add_trace(go.Bar(x=labels, y=[38325, 27262, 32407, 37304, 48273, 60751], marker_color = colors),10, 4)\n",
    "              \n",
    "# Wyoming \n",
    "fig.add_trace(go.Bar(x=labels, y=[39187, 30186, 34082, 36320, 48193,62919], marker_color = colors), 10, 5)\n",
    "\n",
    "fig.update_traces(\n",
    "    hovertemplate = ('%{y:$,}<extra></extra>')\n",
    ")    \n",
    "\n",
    "fig.update_layout(\n",
    "    title_text='<b>State Median Incomes by Degree (2019)<b>',\n",
    "    title_font_family = \"Open Sans\",\n",
    "    title_font_color =  \"#15202b\",\n",
    "    title_font_size = 32,\n",
    "    showlegend = False,\n",
    "    width=1000, \n",
    "    height=2400,\n",
    "    plot_bgcolor = '#d6dbdf',\n",
    "    paper_bgcolor = '#d6dbdf',\n",
    "\n",
    "    hoverlabel=dict(\n",
    "        bgcolor = \"white\",\n",
    "        font_size = 18,\n",
    "        font_color = \"#1d2f3d\",\n",
    "        font_family = \"Open Sans\")\n",
    "    )\n",
    "\n",
    "\n",
    "fig.update_xaxes(\n",
    "    visible=False)\n",
    "\n",
    "fig.update_yaxes(\n",
    "    visible=False)\n",
    "\n",
    "fig.show()"
   ]
  },
  {
   "cell_type": "code",
   "execution_count": 263,
   "metadata": {},
   "outputs": [
    {
     "data": {
      "text/plain": [
       "'https://plotly.com/~djferrera/34/'"
      ]
     },
     "execution_count": 263,
     "metadata": {},
     "output_type": "execute_result"
    }
   ],
   "source": [
    "# push your visualiztion to your account\n",
    "# will open in a new window if done correctly\n",
    "\n",
    "import chart_studio.plotly as py\n",
    "py.plot(fig, filename = 'State Degree Incomes', auto_open=True)"
   ]
  },
  {
   "cell_type": "code",
   "execution_count": 264,
   "metadata": {},
   "outputs": [
    {
     "data": {
      "text/plain": [
       "'<iframe id=\"igraph\" scrolling=\"no\" style=\"border:none;\" seamless=\"seamless\" src=\"https://plotly.com/~djferrera/34.embed\" height=\"525\" width=\"100%\"></iframe>'"
      ]
     },
     "execution_count": 264,
     "metadata": {},
     "output_type": "execute_result"
    }
   ],
   "source": [
    "# embed this code into your site\n",
    "\n",
    "import chart_studio.tools as tls\n",
    "tls.get_embed('https://plotly.com/~djferrera/34/')"
   ]
  },
  {
   "cell_type": "code",
   "execution_count": null,
   "metadata": {},
   "outputs": [],
   "source": []
  }
 ],
 "metadata": {
  "kernelspec": {
   "display_name": "Python 3",
   "language": "python",
   "name": "python3"
  },
  "language_info": {
   "codemirror_mode": {
    "name": "ipython",
    "version": 3
   },
   "file_extension": ".py",
   "mimetype": "text/x-python",
   "name": "python",
   "nbconvert_exporter": "python",
   "pygments_lexer": "ipython3",
   "version": "3.7.3"
  }
 },
 "nbformat": 4,
 "nbformat_minor": 2
}
